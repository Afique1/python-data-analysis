{
 "cells": [
  {
   "cell_type": "markdown",
   "metadata": {},
   "source": [
    "# Heart Disease Analysis and Prediction"
   ]
  },
  {
   "cell_type": "markdown",
   "metadata": {},
   "source": [
    "### List of contents\n",
    "---\n",
    "\n",
    "1. [Import Library](#import-relevent-libraries)\n",
    "2. [Load Dataset](#Loading-Initial-Dataset) || [Load pre-processed data](#Load-pre-processed-data)\n",
    "3. [Pre-process](#Pre-processing-data)\n",
    "4. [Exploratory Data Analysis](#Exploratory-Data-Analysis)\n",
    "5. [Removing Outliers](#Removing-outliers)\n",
    "6. [Correlation Matrix](#Correlation-Matrix)\n",
    "7. [Algorithm Performance Comparison](#Algorithm-Performance-Comparison)"
   ]
  },
  {
   "cell_type": "markdown",
   "metadata": {
    "id": "uGqkY966KhdP"
   },
   "source": [
    "### Introduction\n",
    "Stroke is a blood clot or bleeds in the brain, which can make permanent damage that has an effect\n",
    "on mobility, cognition, sight or communication. Stroke is considered as medical urgent situation\n",
    "and can cause long-term neurological damage, complications and often death.\n",
    "\n",
    "\n",
    "**Dataset Overview**\n",
    "\n",
    "---\n",
    "\n",
    "\n",
    "\n",
    "The dataset was collected from https://www.kaggle.com/datasets/fedesoriano/stroke-prediction-dataset URL. The dataset contains initially 5110 instances with 12 attributes. This dataset is used to predict\n",
    "whether a patient is likely to get stroke based on the input parameters like gender, age, various\n",
    "diseases, and smoking status. Each row in the data provides relevant information about the patient."
   ]
  },
  {
   "cell_type": "markdown",
   "metadata": {
    "id": "JK0eCduZ0dJS"
   },
   "source": [
    "## import relevent libraries"
   ]
  },
  {
   "cell_type": "code",
   "execution_count": 4,
   "metadata": {
    "id": "_XVmmTDuGg5o"
   },
   "outputs": [],
   "source": [
    "import numpy as np\n",
    "import pandas as pd\n",
    "import matplotlib.pyplot as plt\n",
    "import seaborn as sns\n",
    "\n",
    "sns.set_theme(style=\"dark\")\n",
    "\n",
    "#To plot the graph embedded in the notebook\n",
    "%matplotlib inline\n",
    "\n",
    "from sklearn import metrics\n",
    "\n",
    "#from categorical to numerical conversion\n",
    "from sklearn.preprocessing import OneHotEncoder, LabelEncoder\n",
    "\n",
    "#model algorithms\n",
    "from sklearn import svm\n",
    "from sklearn.linear_model import LogisticRegression\n",
    "from sklearn.neighbors import KNeighborsClassifier\n",
    "from sklearn.naive_bayes import GaussianNB\n",
    "from sklearn.tree import DecisionTreeClassifier\n",
    "\n",
    "#model evaluation\n",
    "from sklearn.model_selection import train_test_split\n",
    "from sklearn.model_selection import GridSearchCV, RandomizedSearchCV\n",
    "from sklearn.metrics import confusion_matrix, classification_report, precision_score, recall_score, f1_score\n",
    "#from sklearn.metrics import plot_roc_curve"
   ]
  },
  {
   "cell_type": "code",
   "execution_count": null,
   "metadata": {},
   "outputs": [],
   "source": []
  },
  {
   "cell_type": "markdown",
   "metadata": {
    "id": "nQNMwis9IW1d"
   },
   "source": [
    "## Loading Initial Dataset"
   ]
  },
  {
   "cell_type": "code",
   "execution_count": 2,
   "metadata": {
    "colab": {
     "base_uri": "https://localhost:8080/"
    },
    "id": "n2xQafiOIPCi",
    "outputId": "40a9c8b5-f079-4183-fa5b-69a625f8cdac"
   },
   "outputs": [],
   "source": [
    "# Specify the file location and name\n",
    "file_location = 'dataset/healthcare-dataset-stroke-data.csv'\n",
    "\n",
    "# Read the CSV file into a DataFrame\n",
    "df = pd.read_csv(file_location)"
   ]
  },
  {
   "cell_type": "code",
   "execution_count": 3,
   "metadata": {
    "colab": {
     "base_uri": "https://localhost:8080/",
     "height": 513
    },
    "id": "we3xKCNKME8_",
    "outputId": "e17e3084-08ba-43c4-a260-b4c07ba3752e"
   },
   "outputs": [
    {
     "data": {
      "text/html": [
       "<div>\n",
       "<style scoped>\n",
       "    .dataframe tbody tr th:only-of-type {\n",
       "        vertical-align: middle;\n",
       "    }\n",
       "\n",
       "    .dataframe tbody tr th {\n",
       "        vertical-align: top;\n",
       "    }\n",
       "\n",
       "    .dataframe thead th {\n",
       "        text-align: right;\n",
       "    }\n",
       "</style>\n",
       "<table border=\"1\" class=\"dataframe\">\n",
       "  <thead>\n",
       "    <tr style=\"text-align: right;\">\n",
       "      <th></th>\n",
       "      <th>id</th>\n",
       "      <th>gender</th>\n",
       "      <th>age</th>\n",
       "      <th>hypertension</th>\n",
       "      <th>heart_disease</th>\n",
       "      <th>ever_married</th>\n",
       "      <th>work_type</th>\n",
       "      <th>Residence_type</th>\n",
       "      <th>avg_glucose_level</th>\n",
       "      <th>bmi</th>\n",
       "      <th>smoking_status</th>\n",
       "      <th>stroke</th>\n",
       "    </tr>\n",
       "  </thead>\n",
       "  <tbody>\n",
       "    <tr>\n",
       "      <th>0</th>\n",
       "      <td>9046</td>\n",
       "      <td>Male</td>\n",
       "      <td>67.0</td>\n",
       "      <td>0</td>\n",
       "      <td>1</td>\n",
       "      <td>Yes</td>\n",
       "      <td>Private</td>\n",
       "      <td>Urban</td>\n",
       "      <td>228.69</td>\n",
       "      <td>36.6</td>\n",
       "      <td>formerly smoked</td>\n",
       "      <td>1</td>\n",
       "    </tr>\n",
       "    <tr>\n",
       "      <th>1</th>\n",
       "      <td>51676</td>\n",
       "      <td>Female</td>\n",
       "      <td>61.0</td>\n",
       "      <td>0</td>\n",
       "      <td>0</td>\n",
       "      <td>Yes</td>\n",
       "      <td>Self-employed</td>\n",
       "      <td>Rural</td>\n",
       "      <td>202.21</td>\n",
       "      <td>NaN</td>\n",
       "      <td>never smoked</td>\n",
       "      <td>1</td>\n",
       "    </tr>\n",
       "    <tr>\n",
       "      <th>2</th>\n",
       "      <td>31112</td>\n",
       "      <td>Male</td>\n",
       "      <td>80.0</td>\n",
       "      <td>0</td>\n",
       "      <td>1</td>\n",
       "      <td>Yes</td>\n",
       "      <td>Private</td>\n",
       "      <td>Rural</td>\n",
       "      <td>105.92</td>\n",
       "      <td>32.5</td>\n",
       "      <td>never smoked</td>\n",
       "      <td>1</td>\n",
       "    </tr>\n",
       "    <tr>\n",
       "      <th>3</th>\n",
       "      <td>60182</td>\n",
       "      <td>Female</td>\n",
       "      <td>49.0</td>\n",
       "      <td>0</td>\n",
       "      <td>0</td>\n",
       "      <td>Yes</td>\n",
       "      <td>Private</td>\n",
       "      <td>Urban</td>\n",
       "      <td>171.23</td>\n",
       "      <td>34.4</td>\n",
       "      <td>smokes</td>\n",
       "      <td>1</td>\n",
       "    </tr>\n",
       "    <tr>\n",
       "      <th>4</th>\n",
       "      <td>1665</td>\n",
       "      <td>Female</td>\n",
       "      <td>79.0</td>\n",
       "      <td>1</td>\n",
       "      <td>0</td>\n",
       "      <td>Yes</td>\n",
       "      <td>Self-employed</td>\n",
       "      <td>Rural</td>\n",
       "      <td>174.12</td>\n",
       "      <td>24.0</td>\n",
       "      <td>never smoked</td>\n",
       "      <td>1</td>\n",
       "    </tr>\n",
       "    <tr>\n",
       "      <th>...</th>\n",
       "      <td>...</td>\n",
       "      <td>...</td>\n",
       "      <td>...</td>\n",
       "      <td>...</td>\n",
       "      <td>...</td>\n",
       "      <td>...</td>\n",
       "      <td>...</td>\n",
       "      <td>...</td>\n",
       "      <td>...</td>\n",
       "      <td>...</td>\n",
       "      <td>...</td>\n",
       "      <td>...</td>\n",
       "    </tr>\n",
       "    <tr>\n",
       "      <th>5105</th>\n",
       "      <td>18234</td>\n",
       "      <td>Female</td>\n",
       "      <td>80.0</td>\n",
       "      <td>1</td>\n",
       "      <td>0</td>\n",
       "      <td>Yes</td>\n",
       "      <td>Private</td>\n",
       "      <td>Urban</td>\n",
       "      <td>83.75</td>\n",
       "      <td>NaN</td>\n",
       "      <td>never smoked</td>\n",
       "      <td>0</td>\n",
       "    </tr>\n",
       "    <tr>\n",
       "      <th>5106</th>\n",
       "      <td>44873</td>\n",
       "      <td>Female</td>\n",
       "      <td>81.0</td>\n",
       "      <td>0</td>\n",
       "      <td>0</td>\n",
       "      <td>Yes</td>\n",
       "      <td>Self-employed</td>\n",
       "      <td>Urban</td>\n",
       "      <td>125.20</td>\n",
       "      <td>40.0</td>\n",
       "      <td>never smoked</td>\n",
       "      <td>0</td>\n",
       "    </tr>\n",
       "    <tr>\n",
       "      <th>5107</th>\n",
       "      <td>19723</td>\n",
       "      <td>Female</td>\n",
       "      <td>35.0</td>\n",
       "      <td>0</td>\n",
       "      <td>0</td>\n",
       "      <td>Yes</td>\n",
       "      <td>Self-employed</td>\n",
       "      <td>Rural</td>\n",
       "      <td>82.99</td>\n",
       "      <td>30.6</td>\n",
       "      <td>never smoked</td>\n",
       "      <td>0</td>\n",
       "    </tr>\n",
       "    <tr>\n",
       "      <th>5108</th>\n",
       "      <td>37544</td>\n",
       "      <td>Male</td>\n",
       "      <td>51.0</td>\n",
       "      <td>0</td>\n",
       "      <td>0</td>\n",
       "      <td>Yes</td>\n",
       "      <td>Private</td>\n",
       "      <td>Rural</td>\n",
       "      <td>166.29</td>\n",
       "      <td>25.6</td>\n",
       "      <td>formerly smoked</td>\n",
       "      <td>0</td>\n",
       "    </tr>\n",
       "    <tr>\n",
       "      <th>5109</th>\n",
       "      <td>44679</td>\n",
       "      <td>Female</td>\n",
       "      <td>44.0</td>\n",
       "      <td>0</td>\n",
       "      <td>0</td>\n",
       "      <td>Yes</td>\n",
       "      <td>Govt_job</td>\n",
       "      <td>Urban</td>\n",
       "      <td>85.28</td>\n",
       "      <td>26.2</td>\n",
       "      <td>Unknown</td>\n",
       "      <td>0</td>\n",
       "    </tr>\n",
       "  </tbody>\n",
       "</table>\n",
       "<p>5110 rows × 12 columns</p>\n",
       "</div>"
      ],
      "text/plain": [
       "         id  gender   age  hypertension  heart_disease ever_married  \\\n",
       "0      9046    Male  67.0             0              1          Yes   \n",
       "1     51676  Female  61.0             0              0          Yes   \n",
       "2     31112    Male  80.0             0              1          Yes   \n",
       "3     60182  Female  49.0             0              0          Yes   \n",
       "4      1665  Female  79.0             1              0          Yes   \n",
       "...     ...     ...   ...           ...            ...          ...   \n",
       "5105  18234  Female  80.0             1              0          Yes   \n",
       "5106  44873  Female  81.0             0              0          Yes   \n",
       "5107  19723  Female  35.0             0              0          Yes   \n",
       "5108  37544    Male  51.0             0              0          Yes   \n",
       "5109  44679  Female  44.0             0              0          Yes   \n",
       "\n",
       "          work_type Residence_type  avg_glucose_level   bmi   smoking_status  \\\n",
       "0           Private          Urban             228.69  36.6  formerly smoked   \n",
       "1     Self-employed          Rural             202.21   NaN     never smoked   \n",
       "2           Private          Rural             105.92  32.5     never smoked   \n",
       "3           Private          Urban             171.23  34.4           smokes   \n",
       "4     Self-employed          Rural             174.12  24.0     never smoked   \n",
       "...             ...            ...                ...   ...              ...   \n",
       "5105        Private          Urban              83.75   NaN     never smoked   \n",
       "5106  Self-employed          Urban             125.20  40.0     never smoked   \n",
       "5107  Self-employed          Rural              82.99  30.6     never smoked   \n",
       "5108        Private          Rural             166.29  25.6  formerly smoked   \n",
       "5109       Govt_job          Urban              85.28  26.2          Unknown   \n",
       "\n",
       "      stroke  \n",
       "0          1  \n",
       "1          1  \n",
       "2          1  \n",
       "3          1  \n",
       "4          1  \n",
       "...      ...  \n",
       "5105       0  \n",
       "5106       0  \n",
       "5107       0  \n",
       "5108       0  \n",
       "5109       0  \n",
       "\n",
       "[5110 rows x 12 columns]"
      ]
     },
     "execution_count": 3,
     "metadata": {},
     "output_type": "execute_result"
    }
   ],
   "source": [
    "df"
   ]
  },
  {
   "cell_type": "markdown",
   "metadata": {
    "id": "_joI8YFFZg81"
   },
   "source": [
    "### dropping `id` column"
   ]
  },
  {
   "cell_type": "code",
   "execution_count": 13,
   "metadata": {
    "colab": {
     "base_uri": "https://localhost:8080/"
    },
    "id": "-NuWphr32Tsn",
    "outputId": "8438ae08-83aa-4333-aad0-fce28263d5b6"
   },
   "outputs": [
    {
     "name": "stdout",
     "output_type": "stream",
     "text": [
      "`id` column is removed\n"
     ]
    }
   ],
   "source": [
    "# to handel the error of running the cell twice.\n",
    "# [if deleted before then pass]\n",
    "\n",
    "if 'id' in df.columns:\n",
    "  df = df.drop('id', axis=1)\n",
    "  print(\"`id` column is removed\")\n",
    "else:\n",
    "  # Do nothing, the 'id' column is already deleted.\n",
    "  print(\"`id` column had been removed before \")\n",
    "  pass\n"
   ]
  },
  {
   "cell_type": "markdown",
   "metadata": {
    "id": "OwZJl2ndYyPN"
   },
   "source": [
    "### unique values for catetorical attributes"
   ]
  },
  {
   "cell_type": "code",
   "execution_count": 5,
   "metadata": {
    "colab": {
     "base_uri": "https://localhost:8080/"
    },
    "id": "MX-uUqAoLw6A",
    "outputId": "eac0cd47-53a0-4694-cf43-0de946604da4"
   },
   "outputs": [
    {
     "name": "stdout",
     "output_type": "stream",
     "text": [
      "Unique values of attributes:\n",
      "\n",
      "gender ['Male' 'Female' 'Other']\n",
      "ever_married  ['Yes' 'No']\n",
      "work_type  ['Private' 'Self-employed' 'Govt_job' 'children' 'Never_worked']\n",
      "Residence_type  ['Urban' 'Rural']\n",
      "smoking_status  ['formerly smoked' 'never smoked' 'smokes' 'Unknown']\n",
      "stroke [1 0]\n"
     ]
    },
    {
     "data": {
      "text/plain": [
       "stroke\n",
       "0    4861\n",
       "1     249\n",
       "dtype: int64"
      ]
     },
     "execution_count": 5,
     "metadata": {},
     "output_type": "execute_result"
    }
   ],
   "source": [
    "#checking unique values for catetorical attributes\n",
    "print(\"Unique values of attributes:\\n\")\n",
    "print(\"gender\",df['gender'].unique())\n",
    "print(\"ever_married \",df['ever_married'].unique())\n",
    "print(\"work_type \",df['work_type'].unique())\n",
    "print(\"Residence_type \",df['Residence_type'].unique())\n",
    "print(\"smoking_status \",df['smoking_status'].unique())\n",
    "print(\"stroke\",df['stroke'].unique())\n",
    "df.groupby('stroke').size()"
   ]
  },
  {
   "cell_type": "markdown",
   "metadata": {
    "id": "XioIEY8uY15Y"
   },
   "source": [
    "## target's value difference"
   ]
  },
  {
   "cell_type": "code",
   "execution_count": 6,
   "metadata": {
    "colab": {
     "base_uri": "https://localhost:8080/",
     "height": 428
    },
    "id": "e_xVOu57gYlx",
    "outputId": "5b9f45be-70d5-4935-ab64-c63d30cb9f39"
   },
   "outputs": [
    {
     "data": {
      "image/png": "[encoded data removed]",
      "text/plain": [
       "<Figure size 432x288 with 1 Axes>"
      ]
     },
     "metadata": {},
     "output_type": "display_data"
    }
   ],
   "source": [
    "# a donut chart of stroke values\n",
    "\n",
    "stroke_values = df.groupby('stroke').size()\n",
    "\n",
    "labels = 'No Stroke', 'Stroke'\n",
    "colors = ['lightskyblue', 'red']\n",
    "\n",
    "plt.pie(stroke_values, labels=labels, autopct='%1.1f%%', startangle=0, colors=colors, wedgeprops={'width': 0.4})\n",
    "\n",
    "# a white circle in the middle to create a donut chart\n",
    "centre_circle = plt.Circle((0, 0), 0.70, fc='white')\n",
    "fig = plt.gcf()\n",
    "fig.gca().add_artist(centre_circle)\n",
    "\n",
    "plt.title('Stroke Value Distribution in the Dataset')\n",
    "plt.axis('equal')\n",
    "plt.show()\n"
   ]
  },
  {
   "cell_type": "markdown",
   "metadata": {
    "id": "W4rhUCtNlO1v"
   },
   "source": [
    "## A dataframe with only stroke patients `df_stroke`"
   ]
  },
  {
   "cell_type": "code",
   "execution_count": 7,
   "metadata": {
    "colab": {
     "base_uri": "https://localhost:8080/",
     "height": 513
    },
    "id": "tRr-9qZSlL2n",
    "outputId": "ef17a1e2-e340-4ca8-cd52-0afbb2aaa0b5",
    "scrolled": true
   },
   "outputs": [
    {
     "data": {
      "text/html": [
       "<div>\n",
       "<style scoped>\n",
       "    .dataframe tbody tr th:only-of-type {\n",
       "        vertical-align: middle;\n",
       "    }\n",
       "\n",
       "    .dataframe tbody tr th {\n",
       "        vertical-align: top;\n",
       "    }\n",
       "\n",
       "    .dataframe thead th {\n",
       "        text-align: right;\n",
       "    }\n",
       "</style>\n",
       "<table border=\"1\" class=\"dataframe\">\n",
       "  <thead>\n",
       "    <tr style=\"text-align: right;\">\n",
       "      <th></th>\n",
       "      <th>gender</th>\n",
       "      <th>age</th>\n",
       "      <th>hypertension</th>\n",
       "      <th>heart_disease</th>\n",
       "      <th>ever_married</th>\n",
       "      <th>work_type</th>\n",
       "      <th>Residence_type</th>\n",
       "      <th>avg_glucose_level</th>\n",
       "      <th>bmi</th>\n",
       "      <th>smoking_status</th>\n",
       "      <th>stroke</th>\n",
       "    </tr>\n",
       "  </thead>\n",
       "  <tbody>\n",
       "    <tr>\n",
       "      <th>0</th>\n",
       "      <td>Male</td>\n",
       "      <td>67.0</td>\n",
       "      <td>0</td>\n",
       "      <td>1</td>\n",
       "      <td>Yes</td>\n",
       "      <td>Private</td>\n",
       "      <td>Urban</td>\n",
       "      <td>228.69</td>\n",
       "      <td>36.6</td>\n",
       "      <td>formerly smoked</td>\n",
       "      <td>1</td>\n",
       "    </tr>\n",
       "    <tr>\n",
       "      <th>1</th>\n",
       "      <td>Female</td>\n",
       "      <td>61.0</td>\n",
       "      <td>0</td>\n",
       "      <td>0</td>\n",
       "      <td>Yes</td>\n",
       "      <td>Self-employed</td>\n",
       "      <td>Rural</td>\n",
       "      <td>202.21</td>\n",
       "      <td>NaN</td>\n",
       "      <td>never smoked</td>\n",
       "      <td>1</td>\n",
       "    </tr>\n",
       "    <tr>\n",
       "      <th>2</th>\n",
       "      <td>Male</td>\n",
       "      <td>80.0</td>\n",
       "      <td>0</td>\n",
       "      <td>1</td>\n",
       "      <td>Yes</td>\n",
       "      <td>Private</td>\n",
       "      <td>Rural</td>\n",
       "      <td>105.92</td>\n",
       "      <td>32.5</td>\n",
       "      <td>never smoked</td>\n",
       "      <td>1</td>\n",
       "    </tr>\n",
       "    <tr>\n",
       "      <th>3</th>\n",
       "      <td>Female</td>\n",
       "      <td>49.0</td>\n",
       "      <td>0</td>\n",
       "      <td>0</td>\n",
       "      <td>Yes</td>\n",
       "      <td>Private</td>\n",
       "      <td>Urban</td>\n",
       "      <td>171.23</td>\n",
       "      <td>34.4</td>\n",
       "      <td>smokes</td>\n",
       "      <td>1</td>\n",
       "    </tr>\n",
       "    <tr>\n",
       "      <th>4</th>\n",
       "      <td>Female</td>\n",
       "      <td>79.0</td>\n",
       "      <td>1</td>\n",
       "      <td>0</td>\n",
       "      <td>Yes</td>\n",
       "      <td>Self-employed</td>\n",
       "      <td>Rural</td>\n",
       "      <td>174.12</td>\n",
       "      <td>24.0</td>\n",
       "      <td>never smoked</td>\n",
       "      <td>1</td>\n",
       "    </tr>\n",
       "    <tr>\n",
       "      <th>...</th>\n",
       "      <td>...</td>\n",
       "      <td>...</td>\n",
       "      <td>...</td>\n",
       "      <td>...</td>\n",
       "      <td>...</td>\n",
       "      <td>...</td>\n",
       "      <td>...</td>\n",
       "      <td>...</td>\n",
       "      <td>...</td>\n",
       "      <td>...</td>\n",
       "      <td>...</td>\n",
       "    </tr>\n",
       "    <tr>\n",
       "      <th>244</th>\n",
       "      <td>Male</td>\n",
       "      <td>57.0</td>\n",
       "      <td>0</td>\n",
       "      <td>0</td>\n",
       "      <td>Yes</td>\n",
       "      <td>Private</td>\n",
       "      <td>Rural</td>\n",
       "      <td>84.96</td>\n",
       "      <td>36.7</td>\n",
       "      <td>Unknown</td>\n",
       "      <td>1</td>\n",
       "    </tr>\n",
       "    <tr>\n",
       "      <th>245</th>\n",
       "      <td>Female</td>\n",
       "      <td>14.0</td>\n",
       "      <td>0</td>\n",
       "      <td>0</td>\n",
       "      <td>No</td>\n",
       "      <td>children</td>\n",
       "      <td>Rural</td>\n",
       "      <td>57.93</td>\n",
       "      <td>30.9</td>\n",
       "      <td>Unknown</td>\n",
       "      <td>1</td>\n",
       "    </tr>\n",
       "    <tr>\n",
       "      <th>246</th>\n",
       "      <td>Female</td>\n",
       "      <td>75.0</td>\n",
       "      <td>0</td>\n",
       "      <td>0</td>\n",
       "      <td>Yes</td>\n",
       "      <td>Self-employed</td>\n",
       "      <td>Rural</td>\n",
       "      <td>78.80</td>\n",
       "      <td>29.3</td>\n",
       "      <td>formerly smoked</td>\n",
       "      <td>1</td>\n",
       "    </tr>\n",
       "    <tr>\n",
       "      <th>247</th>\n",
       "      <td>Male</td>\n",
       "      <td>71.0</td>\n",
       "      <td>1</td>\n",
       "      <td>0</td>\n",
       "      <td>Yes</td>\n",
       "      <td>Self-employed</td>\n",
       "      <td>Rural</td>\n",
       "      <td>87.80</td>\n",
       "      <td>NaN</td>\n",
       "      <td>Unknown</td>\n",
       "      <td>1</td>\n",
       "    </tr>\n",
       "    <tr>\n",
       "      <th>248</th>\n",
       "      <td>Female</td>\n",
       "      <td>78.0</td>\n",
       "      <td>0</td>\n",
       "      <td>0</td>\n",
       "      <td>Yes</td>\n",
       "      <td>Private</td>\n",
       "      <td>Rural</td>\n",
       "      <td>78.81</td>\n",
       "      <td>19.6</td>\n",
       "      <td>Unknown</td>\n",
       "      <td>1</td>\n",
       "    </tr>\n",
       "  </tbody>\n",
       "</table>\n",
       "<p>249 rows × 11 columns</p>\n",
       "</div>"
      ],
      "text/plain": [
       "     gender   age  hypertension  heart_disease ever_married      work_type  \\\n",
       "0      Male  67.0             0              1          Yes        Private   \n",
       "1    Female  61.0             0              0          Yes  Self-employed   \n",
       "2      Male  80.0             0              1          Yes        Private   \n",
       "3    Female  49.0             0              0          Yes        Private   \n",
       "4    Female  79.0             1              0          Yes  Self-employed   \n",
       "..      ...   ...           ...            ...          ...            ...   \n",
       "244    Male  57.0             0              0          Yes        Private   \n",
       "245  Female  14.0             0              0           No       children   \n",
       "246  Female  75.0             0              0          Yes  Self-employed   \n",
       "247    Male  71.0             1              0          Yes  Self-employed   \n",
       "248  Female  78.0             0              0          Yes        Private   \n",
       "\n",
       "    Residence_type  avg_glucose_level   bmi   smoking_status  stroke  \n",
       "0            Urban             228.69  36.6  formerly smoked       1  \n",
       "1            Rural             202.21   NaN     never smoked       1  \n",
       "2            Rural             105.92  32.5     never smoked       1  \n",
       "3            Urban             171.23  34.4           smokes       1  \n",
       "4            Rural             174.12  24.0     never smoked       1  \n",
       "..             ...                ...   ...              ...     ...  \n",
       "244          Rural              84.96  36.7          Unknown       1  \n",
       "245          Rural              57.93  30.9          Unknown       1  \n",
       "246          Rural              78.80  29.3  formerly smoked       1  \n",
       "247          Rural              87.80   NaN          Unknown       1  \n",
       "248          Rural              78.81  19.6          Unknown       1  \n",
       "\n",
       "[249 rows x 11 columns]"
      ]
     },
     "execution_count": 7,
     "metadata": {},
     "output_type": "execute_result"
    }
   ],
   "source": [
    "#a dataframe `df_stroke` where all the instances had stroke\n",
    "\n",
    "df_stroke = df[df['stroke'] == 1]\n",
    "df_stroke"
   ]
  },
  {
   "cell_type": "markdown",
   "metadata": {
    "id": "Ky0Rafqxca9L"
   },
   "source": [
    "## Pre-processing data\n",
    "removing duplicate and null values"
   ]
  },
  {
   "cell_type": "code",
   "execution_count": 8,
   "metadata": {
    "colab": {
     "base_uri": "https://localhost:8080/"
    },
    "id": "QRHlX6iRMhzs",
    "outputId": "18d52d36-71be-49b8-afe2-01df7f1cc263"
   },
   "outputs": [
    {
     "data": {
      "text/plain": [
       "0"
      ]
     },
     "execution_count": 8,
     "metadata": {},
     "output_type": "execute_result"
    }
   ],
   "source": [
    "#check duplicate rows\n",
    "\n",
    "df.duplicated().sum()"
   ]
  },
  {
   "cell_type": "code",
   "execution_count": 9,
   "metadata": {
    "colab": {
     "base_uri": "https://localhost:8080/"
    },
    "id": "GAfurUIyNADM",
    "outputId": "7a94df35-ed1e-49e1-cd74-897e2f5f5008"
   },
   "outputs": [
    {
     "data": {
      "text/plain": [
       "gender                 0\n",
       "age                    0\n",
       "hypertension           0\n",
       "heart_disease          0\n",
       "ever_married           0\n",
       "work_type              0\n",
       "Residence_type         0\n",
       "avg_glucose_level      0\n",
       "bmi                  201\n",
       "smoking_status         0\n",
       "stroke                 0\n",
       "dtype: int64"
      ]
     },
     "execution_count": 9,
     "metadata": {},
     "output_type": "execute_result"
    }
   ],
   "source": [
    "#null values in each attribute\n",
    "\n",
    "df.isnull().sum()\n"
   ]
  },
  {
   "cell_type": "markdown",
   "metadata": {
    "id": "O_q_hY3p4V90"
   },
   "source": [
    "### 201 instanses are null in `bmi` attribute.\n",
    "These null values can be -\n",
    "\n",
    "1. removed from the dataframe\n",
    "2. replaced by median/mean value\n",
    "3. replaced by the max frequency value\n",
    "\n",
    "To eleminate inconsistency, the **null** values have to be removed. Hence, option 1 is the delicate choice."
   ]
  },
  {
   "cell_type": "code",
   "execution_count": 10,
   "metadata": {
    "colab": {
     "base_uri": "https://localhost:8080/"
    },
    "id": "iYC9HLboPwjR",
    "outputId": "f5398d79-d9d0-406b-b851-4f06bdcf3d47"
   },
   "outputs": [
    {
     "name": "stdout",
     "output_type": "stream",
     "text": [
      "Percentage of null values in BMI column: 3.93%\n"
     ]
    }
   ],
   "source": [
    "#the percentage of bmi that are null\n",
    "\n",
    "null_bmi_count = df['bmi'].isnull().sum()\n",
    "total_rows = len(df)\n",
    "null_bmi_percentage = (null_bmi_count / total_rows) * 100\n",
    "print(f\"Percentage of null values in BMI column: {null_bmi_percentage:.2f}%\")"
   ]
  },
  {
   "cell_type": "markdown",
   "metadata": {
    "id": "Yw_R6V8QrrlT"
   },
   "source": [
    "## remove null `bmi`"
   ]
  },
  {
   "cell_type": "code",
   "execution_count": 11,
   "metadata": {
    "colab": {
     "base_uri": "https://localhost:8080/"
    },
    "id": "PwF7j6ffULvh",
    "outputId": "dc869c19-f9cb-470d-fe10-96f89a76751d"
   },
   "outputs": [
    {
     "name": "stdout",
     "output_type": "stream",
     "text": [
      "Null BMI values deleted\n"
     ]
    }
   ],
   "source": [
    "#remove the null values in bmi\n",
    "if df['bmi'].isnull().sum()>0:\n",
    "  df = df.dropna(subset=['bmi'])\n",
    "  print('Null BMI values deleted')\n",
    "else:\n",
    "  print('No null values found!')"
   ]
  },
  {
   "cell_type": "markdown",
   "metadata": {
    "id": "kmDlZNsWbe9Y"
   },
   "source": [
    "## Changing data type from object to string"
   ]
  },
  {
   "cell_type": "code",
   "execution_count": 12,
   "metadata": {
    "colab": {
     "base_uri": "https://localhost:8080/"
    },
    "id": "qQ0ubsAghfMG",
    "outputId": "14b0c93a-6bd2-41dd-ff34-cfafaf5abb48"
   },
   "outputs": [
    {
     "name": "stdout",
     "output_type": "stream",
     "text": [
      "gender                object\n",
      "age                  float64\n",
      "hypertension           int64\n",
      "heart_disease          int64\n",
      "ever_married          object\n",
      "work_type             object\n",
      "Residence_type        object\n",
      "avg_glucose_level    float64\n",
      "bmi                  float64\n",
      "smoking_status        object\n",
      "stroke                 int64\n",
      "dtype: object\n"
     ]
    }
   ],
   "source": [
    "# Get the data types of all columns\n",
    "data_types = df.dtypes\n",
    "\n",
    "# Print the data types\n",
    "print(data_types)"
   ]
  },
  {
   "cell_type": "code",
   "execution_count": 13,
   "metadata": {
    "id": "c_GN3eKairvL"
   },
   "outputs": [],
   "source": [
    "#converting obj attributes to str\n",
    "\n",
    "df['gender'] = df['gender'].astype('string')\n",
    "df['ever_married'] = df['ever_married'].astype('string')\n",
    "df['work_type'] = df['work_type'].astype('string')\n",
    "df['Residence_type'] = df['Residence_type'].astype('string')\n",
    "df['smoking_status'] = df['smoking_status'].astype('string')"
   ]
  },
  {
   "cell_type": "markdown",
   "metadata": {
    "id": "aeSp4a9rmytr"
   },
   "source": [
    "* save csv of age>30"
   ]
  },
  {
   "cell_type": "code",
   "execution_count": null,
   "metadata": {
    "id": "nuQ5DnIIeLPg"
   },
   "outputs": [],
   "source": [
    "# a dataframe where all the rows age are over 30\n",
    "\n",
    "df_age_over_30 = df[df['age'] > 30]\n",
    "df_age_over_30\n",
    "\n",
    "#file saved as df_age_over_30-healthcare-dataset-stroke-data\n",
    "\n",
    "#file_location='df_age_over_30-healthcare-dataset-stroke-data.csv'\n",
    "#df_age_over_30.to_csv(file_location)"
   ]
  },
  {
   "cell_type": "markdown",
   "metadata": {
    "id": "EwhpQcmzm2jX"
   },
   "source": [
    "* save CSV children as work_type"
   ]
  },
  {
   "cell_type": "code",
   "execution_count": null,
   "metadata": {
    "colab": {
     "base_uri": "https://localhost:8080/"
    },
    "id": "2p5SRIKvlY0w",
    "outputId": "ef5c46b1-74a3-4e26-e811-ab9426d3c114"
   },
   "outputs": [
    {
     "data": {
      "text/plain": [
       "16.0"
      ]
     },
     "execution_count": 24,
     "metadata": {},
     "output_type": "execute_result"
    }
   ],
   "source": [
    "# a dataframe where children as work_type\n",
    "\n",
    "df_underage_children = df[df['work_type']=='children']\n",
    "df_underage_children['age'].max()\n",
    "\n",
    "#file saved as df_underage_children-healthcare-dataset-stroke-data\n",
    "\n",
    "#file_location='df_underage_children-healthcare-dataset-stroke-data.csv'\n",
    "#df_underage_children.to_csv(file_location)"
   ]
  },
  {
   "cell_type": "markdown",
   "metadata": {
    "id": "r9Djo-KDcK1y"
   },
   "source": [
    "## Exploratory Data Analysis"
   ]
  },
  {
   "cell_type": "markdown",
   "metadata": {
    "id": "oP6k1GjVD4E7"
   },
   "source": [
    "### Identifying Outliers"
   ]
  },
  {
   "cell_type": "code",
   "execution_count": 19,
   "metadata": {
    "colab": {
     "base_uri": "https://localhost:8080/",
     "height": 480
    },
    "id": "ZZL-CIViU10F",
    "outputId": "0389b157-5aea-4d01-e591-e73dfb975035"
   },
   "outputs": [
    {
     "data": {
      "image/png": "[encoded data removed]",
      "text/plain": [
       "<Figure size 432x288 with 1 Axes>"
      ]
     },
     "metadata": {
      "needs_background": "light"
     },
     "output_type": "display_data"
    }
   ],
   "source": [
    "# a histogram of bmi\n",
    "\n",
    "plt.hist(df['bmi'], bins=10, edgecolor='black')\n",
    "plt.xlabel('BMI')\n",
    "plt.ylabel('Frequency')\n",
    "plt.title('BMI Histogram Of all Patient')\n",
    "plt.show()\n"
   ]
  },
  {
   "cell_type": "markdown",
   "metadata": {
    "id": "OGGZXr4vs2oe"
   },
   "source": [
    "in later section, the instances which have `bmi>60` are removed"
   ]
  },
  {
   "cell_type": "code",
   "execution_count": 17,
   "metadata": {
    "colab": {
     "base_uri": "https://localhost:8080/"
    },
    "id": "J3ZMJjNik8Qx",
    "outputId": "6d4d5287-7b13-4dda-a3bd-65e353783231"
   },
   "outputs": [
    {
     "name": "stdout",
     "output_type": "stream",
     "text": [
      "Instances with BMI higher than 60: 13\n",
      "Stroke patients with BMI higher than 60: 0\n"
     ]
    }
   ],
   "source": [
    "# bmi that are higher than 60 and how many of them had stroke\n",
    "\n",
    "high_bmi_df = df[df['bmi'] > 60]\n",
    "high_bmi_stroke_count = high_bmi_df['stroke'].sum()\n",
    "print(f\"Instances with BMI higher than 60: {len(high_bmi_df)}\")\n",
    "print(f\"Stroke patients with BMI higher than 60: {high_bmi_stroke_count}\")"
   ]
  },
  {
   "cell_type": "code",
   "execution_count": 18,
   "metadata": {
    "colab": {
     "base_uri": "https://localhost:8080/",
     "height": 478
    },
    "id": "B3lAY-04bWIb",
    "outputId": "1b5a61cc-8ce2-48f8-f74d-a6e06bfd9954"
   },
   "outputs": [
    {
     "data": {
      "text/html": [
       "<div>\n",
       "<style scoped>\n",
       "    .dataframe tbody tr th:only-of-type {\n",
       "        vertical-align: middle;\n",
       "    }\n",
       "\n",
       "    .dataframe tbody tr th {\n",
       "        vertical-align: top;\n",
       "    }\n",
       "\n",
       "    .dataframe thead th {\n",
       "        text-align: right;\n",
       "    }\n",
       "</style>\n",
       "<table border=\"1\" class=\"dataframe\">\n",
       "  <thead>\n",
       "    <tr style=\"text-align: right;\">\n",
       "      <th></th>\n",
       "      <th>gender</th>\n",
       "      <th>age</th>\n",
       "      <th>hypertension</th>\n",
       "      <th>heart_disease</th>\n",
       "      <th>ever_married</th>\n",
       "      <th>work_type</th>\n",
       "      <th>Residence_type</th>\n",
       "      <th>avg_glucose_level</th>\n",
       "      <th>bmi</th>\n",
       "      <th>smoking_status</th>\n",
       "      <th>stroke</th>\n",
       "    </tr>\n",
       "  </thead>\n",
       "  <tbody>\n",
       "    <tr>\n",
       "      <th>0</th>\n",
       "      <td>Male</td>\n",
       "      <td>67.0</td>\n",
       "      <td>0</td>\n",
       "      <td>1</td>\n",
       "      <td>Yes</td>\n",
       "      <td>Private</td>\n",
       "      <td>Urban</td>\n",
       "      <td>228.69</td>\n",
       "      <td>36.6</td>\n",
       "      <td>formerly smoked</td>\n",
       "      <td>1</td>\n",
       "    </tr>\n",
       "    <tr>\n",
       "      <th>2</th>\n",
       "      <td>Male</td>\n",
       "      <td>80.0</td>\n",
       "      <td>0</td>\n",
       "      <td>1</td>\n",
       "      <td>Yes</td>\n",
       "      <td>Private</td>\n",
       "      <td>Rural</td>\n",
       "      <td>105.92</td>\n",
       "      <td>32.5</td>\n",
       "      <td>never smoked</td>\n",
       "      <td>1</td>\n",
       "    </tr>\n",
       "    <tr>\n",
       "      <th>3</th>\n",
       "      <td>Female</td>\n",
       "      <td>49.0</td>\n",
       "      <td>0</td>\n",
       "      <td>0</td>\n",
       "      <td>Yes</td>\n",
       "      <td>Private</td>\n",
       "      <td>Urban</td>\n",
       "      <td>171.23</td>\n",
       "      <td>34.4</td>\n",
       "      <td>smokes</td>\n",
       "      <td>1</td>\n",
       "    </tr>\n",
       "    <tr>\n",
       "      <th>4</th>\n",
       "      <td>Female</td>\n",
       "      <td>79.0</td>\n",
       "      <td>1</td>\n",
       "      <td>0</td>\n",
       "      <td>Yes</td>\n",
       "      <td>Self-employed</td>\n",
       "      <td>Rural</td>\n",
       "      <td>174.12</td>\n",
       "      <td>24.0</td>\n",
       "      <td>never smoked</td>\n",
       "      <td>1</td>\n",
       "    </tr>\n",
       "    <tr>\n",
       "      <th>5</th>\n",
       "      <td>Male</td>\n",
       "      <td>81.0</td>\n",
       "      <td>0</td>\n",
       "      <td>0</td>\n",
       "      <td>Yes</td>\n",
       "      <td>Private</td>\n",
       "      <td>Urban</td>\n",
       "      <td>186.21</td>\n",
       "      <td>29.0</td>\n",
       "      <td>formerly smoked</td>\n",
       "      <td>1</td>\n",
       "    </tr>\n",
       "    <tr>\n",
       "      <th>...</th>\n",
       "      <td>...</td>\n",
       "      <td>...</td>\n",
       "      <td>...</td>\n",
       "      <td>...</td>\n",
       "      <td>...</td>\n",
       "      <td>...</td>\n",
       "      <td>...</td>\n",
       "      <td>...</td>\n",
       "      <td>...</td>\n",
       "      <td>...</td>\n",
       "      <td>...</td>\n",
       "    </tr>\n",
       "    <tr>\n",
       "      <th>243</th>\n",
       "      <td>Female</td>\n",
       "      <td>68.0</td>\n",
       "      <td>1</td>\n",
       "      <td>1</td>\n",
       "      <td>Yes</td>\n",
       "      <td>Private</td>\n",
       "      <td>Urban</td>\n",
       "      <td>247.51</td>\n",
       "      <td>40.5</td>\n",
       "      <td>formerly smoked</td>\n",
       "      <td>1</td>\n",
       "    </tr>\n",
       "    <tr>\n",
       "      <th>244</th>\n",
       "      <td>Male</td>\n",
       "      <td>57.0</td>\n",
       "      <td>0</td>\n",
       "      <td>0</td>\n",
       "      <td>Yes</td>\n",
       "      <td>Private</td>\n",
       "      <td>Rural</td>\n",
       "      <td>84.96</td>\n",
       "      <td>36.7</td>\n",
       "      <td>Unknown</td>\n",
       "      <td>1</td>\n",
       "    </tr>\n",
       "    <tr>\n",
       "      <th>245</th>\n",
       "      <td>Female</td>\n",
       "      <td>14.0</td>\n",
       "      <td>0</td>\n",
       "      <td>0</td>\n",
       "      <td>No</td>\n",
       "      <td>children</td>\n",
       "      <td>Rural</td>\n",
       "      <td>57.93</td>\n",
       "      <td>30.9</td>\n",
       "      <td>Unknown</td>\n",
       "      <td>1</td>\n",
       "    </tr>\n",
       "    <tr>\n",
       "      <th>246</th>\n",
       "      <td>Female</td>\n",
       "      <td>75.0</td>\n",
       "      <td>0</td>\n",
       "      <td>0</td>\n",
       "      <td>Yes</td>\n",
       "      <td>Self-employed</td>\n",
       "      <td>Rural</td>\n",
       "      <td>78.80</td>\n",
       "      <td>29.3</td>\n",
       "      <td>formerly smoked</td>\n",
       "      <td>1</td>\n",
       "    </tr>\n",
       "    <tr>\n",
       "      <th>248</th>\n",
       "      <td>Female</td>\n",
       "      <td>78.0</td>\n",
       "      <td>0</td>\n",
       "      <td>0</td>\n",
       "      <td>Yes</td>\n",
       "      <td>Private</td>\n",
       "      <td>Rural</td>\n",
       "      <td>78.81</td>\n",
       "      <td>19.6</td>\n",
       "      <td>Unknown</td>\n",
       "      <td>1</td>\n",
       "    </tr>\n",
       "  </tbody>\n",
       "</table>\n",
       "<p>209 rows × 11 columns</p>\n",
       "</div>"
      ],
      "text/plain": [
       "     gender   age  hypertension  heart_disease ever_married      work_type  \\\n",
       "0      Male  67.0             0              1          Yes        Private   \n",
       "2      Male  80.0             0              1          Yes        Private   \n",
       "3    Female  49.0             0              0          Yes        Private   \n",
       "4    Female  79.0             1              0          Yes  Self-employed   \n",
       "5      Male  81.0             0              0          Yes        Private   \n",
       "..      ...   ...           ...            ...          ...            ...   \n",
       "243  Female  68.0             1              1          Yes        Private   \n",
       "244    Male  57.0             0              0          Yes        Private   \n",
       "245  Female  14.0             0              0           No       children   \n",
       "246  Female  75.0             0              0          Yes  Self-employed   \n",
       "248  Female  78.0             0              0          Yes        Private   \n",
       "\n",
       "    Residence_type  avg_glucose_level   bmi   smoking_status  stroke  \n",
       "0            Urban             228.69  36.6  formerly smoked       1  \n",
       "2            Rural             105.92  32.5     never smoked       1  \n",
       "3            Urban             171.23  34.4           smokes       1  \n",
       "4            Rural             174.12  24.0     never smoked       1  \n",
       "5            Urban             186.21  29.0  formerly smoked       1  \n",
       "..             ...                ...   ...              ...     ...  \n",
       "243          Urban             247.51  40.5  formerly smoked       1  \n",
       "244          Rural              84.96  36.7          Unknown       1  \n",
       "245          Rural              57.93  30.9          Unknown       1  \n",
       "246          Rural              78.80  29.3  formerly smoked       1  \n",
       "248          Rural              78.81  19.6          Unknown       1  \n",
       "\n",
       "[209 rows x 11 columns]"
      ]
     },
     "execution_count": 18,
     "metadata": {},
     "output_type": "execute_result"
    }
   ],
   "source": [
    "#a dataframe `df_stroke` where all the instances had stroke\n",
    "\n",
    "df_stroke = df[df['stroke'] == 1]\n",
    "df_stroke"
   ]
  },
  {
   "cell_type": "code",
   "execution_count": 20,
   "metadata": {
    "colab": {
     "base_uri": "https://localhost:8080/",
     "height": 480
    },
    "id": "dAeiiOMTaalC",
    "outputId": "5097138d-43dc-4759-cbcd-e3d61e8c7d21"
   },
   "outputs": [
    {
     "data": {
      "image/png": "[encoded data removed]",
      "text/plain": [
       "<Figure size 432x288 with 1 Axes>"
      ]
     },
     "metadata": {
      "needs_background": "light"
     },
     "output_type": "display_data"
    }
   ],
   "source": [
    "# histogram of df_stroke[bmi]\n",
    "\n",
    "plt.hist(df_stroke['bmi'], edgecolor='black')\n",
    "plt.xlabel('BMI')\n",
    "plt.ylabel('Frequency')\n",
    "plt.title('Histogram of BMI for Stroke Patients')\n",
    "plt.show()\n"
   ]
  },
  {
   "cell_type": "code",
   "execution_count": 21,
   "metadata": {
    "colab": {
     "base_uri": "https://localhost:8080/",
     "height": 480
    },
    "id": "a_jlMGwsw93q",
    "outputId": "e3e205f6-4236-4380-feb9-3d181145cbd9"
   },
   "outputs": [
    {
     "data": {
      "image/png": "[encoded data removed]",
      "text/plain": [
       "<Figure size 432x288 with 1 Axes>"
      ]
     },
     "metadata": {
      "needs_background": "light"
     },
     "output_type": "display_data"
    }
   ],
   "source": [
    "sns.scatterplot(data=df, x='age', y='bmi', hue='hypertension')\n",
    "plt.title('Scatter Plot of age vs BMI for hypertension patients')\n",
    "plt.show()"
   ]
  },
  {
   "cell_type": "code",
   "execution_count": 22,
   "metadata": {
    "colab": {
     "base_uri": "https://localhost:8080/",
     "height": 480
    },
    "id": "x7v3DEtIBIKa",
    "outputId": "90feddd2-b3f5-4e4c-a54e-ed4fd1948841"
   },
   "outputs": [
    {
     "data": {
      "image/png": "[encoded data removed]",
      "text/plain": [
       "<Figure size 432x288 with 1 Axes>"
      ]
     },
     "metadata": {
      "needs_background": "light"
     },
     "output_type": "display_data"
    }
   ],
   "source": [
    "# create a scatter plot `bmi vs age` and separation by stroke values\n",
    "\n",
    "sns.scatterplot(data=df, x='age', y='bmi', hue='stroke')\n",
    "plt.title('Scatter Plot of age vs BMI for every patient')\n",
    "plt.show()\n"
   ]
  },
  {
   "cell_type": "code",
   "execution_count": 23,
   "metadata": {
    "colab": {
     "base_uri": "https://localhost:8080/",
     "height": 480
    },
    "id": "tayuH3hzBURc",
    "outputId": "e8e0f049-83fc-42de-f9fe-935fb1f56ff1"
   },
   "outputs": [
    {
     "data": {
      "image/png": "[encoded data removed]",
      "text/plain": [
       "<Figure size 432x288 with 1 Axes>"
      ]
     },
     "metadata": {
      "needs_background": "light"
     },
     "output_type": "display_data"
    }
   ],
   "source": [
    "# create a scatter plot of df_stroke where the parameters will be bmi and age\n",
    "\n",
    "sns.scatterplot(data=df_stroke, x='age', y='bmi',color='salmon')\n",
    "plt.title('Scatter Plot of age vs BMI for only Stroke Patients')\n",
    "plt.show()"
   ]
  },
  {
   "cell_type": "markdown",
   "metadata": {
    "id": "q_KZ3Oartspl"
   },
   "source": [
    "age<30 and had stroke is an outlier."
   ]
  },
  {
   "cell_type": "code",
   "execution_count": 24,
   "metadata": {
    "colab": {
     "base_uri": "https://localhost:8080/",
     "height": 496
    },
    "id": "x4l_uHMh3QPX",
    "outputId": "56e2e80b-2696-47e6-9d60-c5ac64d3e2f4"
   },
   "outputs": [
    {
     "data": {
      "image/png": "[encoded data removed]",
      "text/plain": [
       "<Figure size 720x360 with 1 Axes>"
      ]
     },
     "metadata": {
      "needs_background": "light"
     },
     "output_type": "display_data"
    }
   ],
   "source": [
    "#stroke value of different gender\n",
    "pd.crosstab(df.stroke,df.gender).plot(kind='bar',\n",
    "                                   figsize=(10,5),\n",
    "                                   color=['salmon','lightblue','green'])\n",
    "plt.title('Stroke distribution of different gender');\n",
    "plt.xlabel('0 - No Stroke || 1 - Stroke')\n",
    "plt.ylabel('Frequency')\n",
    "plt.xticks(rotation=0);"
   ]
  },
  {
   "cell_type": "markdown",
   "metadata": {
    "id": "pzc-rFYJiEc-"
   },
   "source": [
    "Identifying `other` gender"
   ]
  },
  {
   "cell_type": "code",
   "execution_count": 25,
   "metadata": {
    "colab": {
     "base_uri": "https://localhost:8080/"
    },
    "id": "xgpPgHnL4RsE",
    "outputId": "fde2d33c-3456-4320-a680-fe174af21e26"
   },
   "outputs": [
    {
     "name": "stdout",
     "output_type": "stream",
     "text": [
      "Number of rows where gender is 'Other': 1\n",
      "Index of rows where gender is 'Other': Int64Index([3116], dtype='int64')\n"
     ]
    }
   ],
   "source": [
    "# how many number of rows are there where the value of gender is 'other' and location of the index\n",
    "\n",
    "num_rows_gender_other = df[df['gender'] == 'Other'].shape[0]\n",
    "index_gender_other = df[df['gender'] == 'Other'].index\n",
    "\n",
    "print(f\"Number of rows where gender is 'Other': {num_rows_gender_other}\")\n",
    "print(f\"Index of rows where gender is 'Other': {index_gender_other}\")"
   ]
  },
  {
   "cell_type": "code",
   "execution_count": 26,
   "metadata": {
    "colab": {
     "base_uri": "https://localhost:8080/",
     "height": 480
    },
    "id": "50mvTDcP-2Xn",
    "outputId": "824521dc-889e-439f-9dc8-b78899db9b32"
   },
   "outputs": [
    {
     "data": {
      "image/png": "[encoded data removed]",
      "text/plain": [
       "<Figure size 432x288 with 1 Axes>"
      ]
     },
     "metadata": {
      "needs_background": "light"
     },
     "output_type": "display_data"
    }
   ],
   "source": [
    "# Average glucose level vs BMI\n",
    "sns.scatterplot(data=df_stroke, x='avg_glucose_level', y='bmi')\n",
    "plt.title('Average glucose level vs BMI for Stroke Patients')\n",
    "plt.show()"
   ]
  },
  {
   "cell_type": "code",
   "execution_count": 27,
   "metadata": {
    "colab": {
     "base_uri": "https://localhost:8080/",
     "height": 480
    },
    "id": "FR9dHniC_xH1",
    "outputId": "b0e51020-eb69-44b6-a381-4c5e0a275f23"
   },
   "outputs": [
    {
     "data": {
      "image/png": "[encoded data removed]",
      "text/plain": [
       "<Figure size 432x288 with 1 Axes>"
      ]
     },
     "metadata": {
      "needs_background": "light"
     },
     "output_type": "display_data"
    }
   ],
   "source": [
    "sns.scatterplot(data=df_stroke, x='age', y='bmi')\n",
    "plt.title('Age vs BMI for Stroke Patients')\n",
    "plt.show()"
   ]
  },
  {
   "cell_type": "code",
   "execution_count": 28,
   "metadata": {
    "colab": {
     "base_uri": "https://localhost:8080/",
     "height": 480
    },
    "id": "BJ2Hftmqa58R",
    "outputId": "71e42d41-b8f1-476f-98d5-9c63f3ed167b"
   },
   "outputs": [
    {
     "data": {
      "image/png": "[encoded data removed]",
      "text/plain": [
       "<Figure size 432x288 with 1 Axes>"
      ]
     },
     "metadata": {
      "needs_background": "light"
     },
     "output_type": "display_data"
    }
   ],
   "source": [
    "# Age distribution in df_stroke\n",
    "\n",
    "df_stroke['age'].hist(bins=10, edgecolor='black')\n",
    "plt.xlabel('Age')\n",
    "plt.ylabel('Frequency')\n",
    "plt.title('Age Distribution in Stroke Patients')\n",
    "plt.show()\n"
   ]
  },
  {
   "cell_type": "code",
   "execution_count": 29,
   "metadata": {
    "colab": {
     "base_uri": "https://localhost:8080/",
     "height": 480
    },
    "id": "qSdW7JhVdZlu",
    "outputId": "5bb4043d-222d-4732-a246-7a09537f88cf"
   },
   "outputs": [
    {
     "data": {
      "image/png": "[encoded data removed]",
      "text/plain": [
       "<Figure size 432x288 with 1 Axes>"
      ]
     },
     "metadata": {
      "needs_background": "light"
     },
     "output_type": "display_data"
    }
   ],
   "source": [
    "# avg_glucose_level distribution in df_stroke [stroke patients]\n",
    "\n",
    "df_stroke['avg_glucose_level'].hist(edgecolor='black')\n",
    "plt.xlabel('Glucose Level')\n",
    "plt.ylabel('Frequency')\n",
    "plt.title('Distribution of Average Glucose Level in Stroke Patients')\n",
    "plt.show()\n"
   ]
  },
  {
   "cell_type": "code",
   "execution_count": 30,
   "metadata": {
    "colab": {
     "base_uri": "https://localhost:8080/",
     "height": 480
    },
    "id": "sr86wDyhd4Mf",
    "outputId": "27ec412d-7ead-435e-ec1b-cc484a860230"
   },
   "outputs": [
    {
     "data": {
      "image/png": "[encoded data removed]",
      "text/plain": [
       "<Figure size 432x288 with 1 Axes>"
      ]
     },
     "metadata": {
      "needs_background": "light"
     },
     "output_type": "display_data"
    }
   ],
   "source": [
    "# avg_glucose_level distribution in all patients\n",
    "\n",
    "df['avg_glucose_level'].hist(bins=10, edgecolor='black')\n",
    "plt.xlabel('Glucose Level')\n",
    "plt.ylabel('Frequency')\n",
    "plt.title('Distribution of Average Glucose Level in all Patients')\n",
    "plt.show()\n"
   ]
  },
  {
   "cell_type": "code",
   "execution_count": 31,
   "metadata": {
    "colab": {
     "base_uri": "https://localhost:8080/",
     "height": 480
    },
    "id": "_llJU7SPk7pT",
    "outputId": "172c7a4a-be4d-4115-d688-c5fd950ff7e9"
   },
   "outputs": [
    {
     "data": {
      "image/png": "[encoded data removed]",
      "text/plain": [
       "<Figure size 432x288 with 1 Axes>"
      ]
     },
     "metadata": {
      "needs_background": "light"
     },
     "output_type": "display_data"
    }
   ],
   "source": [
    "# gender vs stroke patients\n",
    "\n",
    "sns.countplot(x='gender', data=df_stroke)\n",
    "plt.xlabel('Gender')\n",
    "plt.ylabel('Count')\n",
    "plt.title('Gender Distribution in Stroke Patients')\n",
    "plt.show()"
   ]
  },
  {
   "cell_type": "markdown",
   "metadata": {
    "id": "0bC7aS6LaVWU"
   },
   "source": [
    "### Age Distribution"
   ]
  },
  {
   "cell_type": "code",
   "execution_count": 32,
   "metadata": {
    "colab": {
     "base_uri": "https://localhost:8080/"
    },
    "id": "rRe-H5ZXTBRv",
    "outputId": "07e8a43e-51af-43c6-e7b0-06b677a0caed"
   },
   "outputs": [
    {
     "name": "stdout",
     "output_type": "stream",
     "text": [
      "Minimum age of all patients 0.08\n",
      "Number of rows where age < 30: 459\n",
      "\n",
      "Minimum age of stroke patients 14.0\n",
      "Number of rows of stroke where age < 30: 1\n"
     ]
    },
    {
     "data": {
      "text/plain": [
       "Int64Index([245], dtype='int64')"
      ]
     },
     "execution_count": 32,
     "metadata": {},
     "output_type": "execute_result"
    }
   ],
   "source": [
    "min_age=df['age'].min()\n",
    "print('Minimum age of all patients',min_age)\n",
    "age_less_than_30 = df[df['age'] < 10].shape[0]\n",
    "print(f\"Number of rows where age < 30: {age_less_than_30}\")\n",
    "\n",
    "print()\n",
    "\n",
    "min_stroke_age  =df_stroke['age'].min()\n",
    "print('Minimum age of stroke patients',min_stroke_age)\n",
    "age_less_than_30_for_stroke = df_stroke[df_stroke['age'] < 30].shape[0]\n",
    "print(f\"Number of rows of stroke where age < 30: {age_less_than_30_for_stroke}\")\n",
    "\n",
    "df_stroke[df_stroke['age']<20].index"
   ]
  },
  {
   "cell_type": "markdown",
   "metadata": {
    "id": "jFIMRk2eXApj"
   },
   "source": [
    "Although it is highly unlikely to have stroke under the age of 30 but the model needs to be trained upon that. [two sets of experiments proposed later (with and without `age<30` instances)]"
   ]
  },
  {
   "cell_type": "code",
   "execution_count": 33,
   "metadata": {
    "colab": {
     "base_uri": "https://localhost:8080/",
     "height": 480
    },
    "id": "btpLyY0yUcKn",
    "outputId": "f0f31857-324f-4795-a3a4-37b323392784"
   },
   "outputs": [
    {
     "data": {
      "image/png": "[encoded data removed]",
      "text/plain": [
       "<Figure size 432x288 with 1 Axes>"
      ]
     },
     "metadata": {
      "needs_background": "light"
     },
     "output_type": "display_data"
    }
   ],
   "source": [
    "# hist of age distribution\n",
    "\n",
    "plt.hist(df['age'], bins=10, edgecolor='black')\n",
    "plt.xlabel('Age')\n",
    "plt.ylabel('Frequency')\n",
    "plt.title('Age Distribution in all Patients')\n",
    "plt.show()\n"
   ]
  },
  {
   "cell_type": "markdown",
   "metadata": {
    "id": "8PouX1c2QWXt"
   },
   "source": [
    "### Is `Smoking Status` attribute irrelevant?"
   ]
  },
  {
   "cell_type": "code",
   "execution_count": 34,
   "metadata": {
    "colab": {
     "base_uri": "https://localhost:8080/",
     "height": 480
    },
    "id": "FggP0Ni7js6m",
    "outputId": "285c0a26-3ede-4682-c3f7-2643e7805eda"
   },
   "outputs": [
    {
     "data": {
      "image/png": "[encoded data removed]",
      "text/plain": [
       "<Figure size 432x288 with 1 Axes>"
      ]
     },
     "metadata": {
      "needs_background": "light"
     },
     "output_type": "display_data"
    }
   ],
   "source": [
    "# smoking_status vs df_stroke\n",
    "\n",
    "sns.countplot(x='smoking_status', data=df_stroke)\n",
    "plt.xlabel('Smoking Status')\n",
    "plt.ylabel('Count')\n",
    "plt.title('Smoking Status in stroke patients')\n",
    "plt.show()"
   ]
  },
  {
   "cell_type": "markdown",
   "metadata": {
    "id": "EBWxfEQMkPT6"
   },
   "source": [
    "Hypothesis : `smoking_status` depicts to be not a compatible attribute as  the dataset shows the patients that never smoked ended up having a stroke.\n",
    "\n",
    "However, it turns out most of the patients that never smoked are over 60 years."
   ]
  },
  {
   "cell_type": "code",
   "execution_count": 35,
   "metadata": {
    "colab": {
     "base_uri": "https://localhost:8080/",
     "height": 480
    },
    "id": "nSvcaai-KxqC",
    "outputId": "421d01cc-a775-4586-9827-9f3533b14f79"
   },
   "outputs": [
    {
     "data": {
      "image/png": "[encoded data removed]",
      "text/plain": [
       "<Figure size 432x288 with 1 Axes>"
      ]
     },
     "metadata": {
      "needs_background": "light"
     },
     "output_type": "display_data"
    }
   ],
   "source": [
    "# a histogram of age where smoking_status=never smoked\n",
    "\n",
    "df_never_smoked = df_stroke[df_stroke['smoking_status'] == 'never smoked']\n",
    "df_never_smoked['age'].hist(bins=10, edgecolor='black')\n",
    "plt.xlabel('Age')\n",
    "plt.ylabel('Frequency')\n",
    "plt.title('Age Distribution for Stroke Patients Who Never Smoked')\n",
    "plt.show()\n"
   ]
  },
  {
   "cell_type": "markdown",
   "metadata": {
    "id": "QBHTiEWjOd9T"
   },
   "source": [
    "Age distribution of stroke patients who `smokes` and `formerly smoked`"
   ]
  },
  {
   "cell_type": "code",
   "execution_count": 36,
   "metadata": {
    "colab": {
     "base_uri": "https://localhost:8080/",
     "height": 522
    },
    "id": "6VZHc7qSMDyP",
    "outputId": "0a4b8a10-1232-43be-ddb3-1aebb7374ed3"
   },
   "outputs": [
    {
     "data": {
      "image/png": "[encoded data removed]",
      "text/plain": [
       "<Figure size 864x432 with 2 Axes>"
      ]
     },
     "metadata": {
      "needs_background": "light"
     },
     "output_type": "display_data"
    }
   ],
   "source": [
    "# Age distribution of stroke patients who smokes and formerly smoked`\n",
    "\n",
    "# Create a figure and two subplots\n",
    "fig, (ax1, ax2) = plt.subplots(1, 2, figsize=(12, 6))\n",
    "\n",
    "# Plot the histogram of age for smokers\n",
    "ax1.hist(df_stroke[df_stroke['smoking_status'] == 'smokes']['age'], edgecolor='black', color='salmon')\n",
    "ax1.set_xlabel('Age')\n",
    "ax1.set_ylabel('Frequency')\n",
    "ax1.set_title('Age Distribution for Stroke Patients Who Smoke')\n",
    "\n",
    "# Plot the histogram of age for formerly smokers\n",
    "ax2.hist(df_stroke[df_stroke['smoking_status'] == 'formerly smoked']['age'], edgecolor='black', color='lightblue')\n",
    "ax2.set_xlabel('Age')\n",
    "ax2.set_ylabel('Frequency')\n",
    "ax2.set_title('Age Distribution for Stroke Patients Who Formerly Smoked')\n",
    "\n",
    "# Show the plot\n",
    "plt.show()\n"
   ]
  },
  {
   "cell_type": "code",
   "execution_count": 37,
   "metadata": {
    "colab": {
     "base_uri": "https://localhost:8080/",
     "height": 419
    },
    "id": "oMJMLeCDRYV-",
    "outputId": "5f8b25e3-c268-427e-bb71-117548b9bfac"
   },
   "outputs": [
    {
     "data": {
      "image/png": "[encoded data removed]",
      "text/plain": [
       "<Figure size 432x288 with 1 Axes>"
      ]
     },
     "metadata": {
      "needs_background": "light"
     },
     "output_type": "display_data"
    }
   ],
   "source": [
    "# Age distribution of stroke patients whos smoking status are Unknown\n",
    "\n",
    "# Create a figure and an axes object\n",
    "fig, ax = plt.subplots(figsize=(6, 4))\n",
    "\n",
    "# Plot the histogram of age for patients with unknown smoking status\n",
    "ax.hist(df_stroke[df_stroke['smoking_status'] == 'Unknown']['age'], edgecolor='black', color='lightblue')\n",
    "\n",
    "# Set the labels and title\n",
    "ax.set_xlabel('Age')\n",
    "ax.set_ylabel('Frequency')\n",
    "ax.set_title('Age Distribution for Stroke Patients with Unknown Smoking Status')\n",
    "\n",
    "# Show the plot\n",
    "plt.show()\n"
   ]
  },
  {
   "cell_type": "markdown",
   "metadata": {
    "id": "YPMCd6nQIYWW"
   },
   "source": [
    "## marital status effect on strokes"
   ]
  },
  {
   "cell_type": "code",
   "execution_count": 38,
   "metadata": {
    "colab": {
     "base_uri": "https://localhost:8080/",
     "height": 573
    },
    "id": "Ne3ZsFsGLjc8",
    "outputId": "94c47d53-7eb4-43fe-8c87-100a5d167807"
   },
   "outputs": [
    {
     "data": {
      "image/png": "[encoded data removed]",
      "text/plain": [
       "<Figure size 432x432 with 1 Axes>"
      ]
     },
     "metadata": {
      "needs_background": "light"
     },
     "output_type": "display_data"
    }
   ],
   "source": [
    "fig, ax1 = plt.subplots(figsize=(6, 6))\n",
    "\n",
    "# Plot the histogram of ever_married for stroke and non-stroke patients in the first subplot\n",
    "ax1.hist(df[df['stroke'] == 0]['ever_married'], edgecolor='black', color='lightblue', label='No Stroke')\n",
    "ax1.hist(df[df['stroke'] == 1]['ever_married'], edgecolor='black', color='salmon', label='Stroke')\n",
    "ax1.set_xlabel('Ever Married')\n",
    "ax1.set_ylabel('Frequency')\n",
    "ax1.set_title('Ever Married vs Stroke')\n",
    "ax1.legend()\n",
    "\n",
    "# Show the plot\n",
    "plt.show()"
   ]
  },
  {
   "cell_type": "code",
   "execution_count": 39,
   "metadata": {
    "colab": {
     "base_uri": "https://localhost:8080/",
     "height": 419
    },
    "id": "tQMAXDMBN-TA",
    "outputId": "ad6b9ec8-0991-4550-d8f1-f152efc14e40"
   },
   "outputs": [
    {
     "data": {
      "image/png": "[encoded data removed]",
      "text/plain": [
       "<Figure size 1080x432 with 2 Axes>"
      ]
     },
     "metadata": {},
     "output_type": "display_data"
    }
   ],
   "source": [
    "# Create two subplots\n",
    "fig, (ax1, ax2) = plt.subplots(1, 2, figsize=(15, 6))\n",
    "\n",
    "label = ['No Stroke', 'Stroke']\n",
    "color = ['lightskyblue', 'salmon']\n",
    "\n",
    "# Create data for the first donut chart\n",
    "counts1 = [\n",
    "    len(df[(df['ever_married'] == 'Yes') & (df['stroke'] == 0)]),\n",
    "    len(df[(df['ever_married'] == 'Yes') & (df['stroke'] == 1)]),\n",
    "]\n",
    "\n",
    "# Create the first donut chart\n",
    "ax1.pie(counts1, labels=label, autopct='%1.1f%%', startangle=0, colors=color, wedgeprops={'width': 0.3})\n",
    "\n",
    "# Add a white circle in the middle to create a donut chart\n",
    "centre_circle1 = plt.Circle((0, 0), 0.70, fc='white')\n",
    "fig1 = plt.gcf()\n",
    "fig1.gca().add_artist(centre_circle1)\n",
    "\n",
    "ax1.set_title('Married vs Stroke')\n",
    "\n",
    "# Create data for the second donut chart\n",
    "counts2 = [\n",
    "    len(df[(df['ever_married'] == 'No') & (df['stroke'] == 0)]),\n",
    "    len(df[(df['ever_married'] == 'No') & (df['stroke'] == 1)]),\n",
    "]\n",
    "\n",
    "# Create the second donut chart\n",
    "ax2.pie(counts2, labels=label, autopct='%1.1f%%', startangle=0, colors=color, wedgeprops={'width': 0.3})\n",
    "\n",
    "# Add a white circle in the middle to create a donut chart\n",
    "centre_circle2 = plt.Circle((0, 0), 0.70, fc='white')\n",
    "fig2 = plt.gcf()\n",
    "fig2.gca().add_artist(centre_circle2)\n",
    "\n",
    "ax2.set_title('Non-Married vs Stroke')\n",
    "\n",
    "# Show the plot\n",
    "plt.show()\n"
   ]
  },
  {
   "cell_type": "markdown",
   "metadata": {
    "id": "XKizKtpQVg_L"
   },
   "source": [
    "### Stroke based on Residence_type"
   ]
  },
  {
   "cell_type": "code",
   "execution_count": 40,
   "metadata": {
    "colab": {
     "base_uri": "https://localhost:8080/",
     "height": 573
    },
    "id": "reLnY2BuVhgw",
    "outputId": "988ae23f-afba-492b-ea37-300759fd2625"
   },
   "outputs": [
    {
     "data": {
      "image/png": "[encoded data removed]",
      "text/plain": [
       "<Figure size 432x432 with 1 Axes>"
      ]
     },
     "metadata": {
      "needs_background": "light"
     },
     "output_type": "display_data"
    }
   ],
   "source": [
    "fig, ax = plt.subplots(figsize=(6, 6))\n",
    "\n",
    "# Plot the histogram of Residence_type for stroke and non-stroke patients\n",
    "ax.hist(df[df['stroke'] == 0]['Residence_type'], edgecolor='black', color='lightblue', label='No Stroke')\n",
    "ax.hist(df[df['stroke'] == 1]['Residence_type'], edgecolor='black', color='salmon', label='Stroke')\n",
    "ax.set_xlabel('Residence Type')\n",
    "ax.set_ylabel('Frequency')\n",
    "ax.set_title('Residence Type vs Stroke')\n",
    "ax.legend()\n",
    "\n",
    "plt.show()\n"
   ]
  },
  {
   "cell_type": "markdown",
   "metadata": {
    "id": "FGyfwa_fiPwv"
   },
   "source": [
    "### Stroke based on work type"
   ]
  },
  {
   "cell_type": "code",
   "execution_count": 41,
   "metadata": {
    "colab": {
     "base_uri": "https://localhost:8080/",
     "height": 497
    },
    "id": "XePtaDoziizz",
    "outputId": "8d1915ec-81be-407c-8e2b-d8a5c1275ccb"
   },
   "outputs": [
    {
     "data": {
      "image/png": "[encoded data removed]",
      "text/plain": [
       "<Figure size 720x360 with 1 Axes>"
      ]
     },
     "metadata": {
      "needs_background": "light"
     },
     "output_type": "display_data"
    }
   ],
   "source": [
    "# Get unique values of work_type\n",
    "unique_work_types = df['work_type'].unique()\n",
    "\n",
    "# Create a bar plot using object oriented method\n",
    "fig, ax = plt.subplots(figsize=(10, 5))\n",
    "sns.barplot(x=unique_work_types, y=df.groupby('work_type').size(), ax=ax)\n",
    "\n",
    "# Set title and labels\n",
    "ax.set_title('Work Type of all patients')\n",
    "ax.set_xlabel('Work Type')\n",
    "ax.set_ylabel('Count')\n",
    "\n",
    "# Show the plot\n",
    "plt.show()\n"
   ]
  },
  {
   "cell_type": "code",
   "execution_count": 42,
   "metadata": {
    "colab": {
     "base_uri": "https://localhost:8080/",
     "height": 481
    },
    "id": "JhWB8D8BiTn3",
    "outputId": "67b2bc0d-82c8-47ae-90d7-e4f3edc161b1"
   },
   "outputs": [
    {
     "data": {
      "image/png": "[encoded data removed]",
      "text/plain": [
       "<Figure size 432x288 with 1 Axes>"
      ]
     },
     "metadata": {
      "needs_background": "light"
     },
     "output_type": "display_data"
    }
   ],
   "source": [
    "# different work type people who had stroke\n",
    "\n",
    "sns.countplot(x='work_type', data=df_stroke)\n",
    "plt.xlabel('Work Type')\n",
    "plt.ylabel('Count')\n",
    "plt.title('Stroke Distribution based on Work Type')\n",
    "plt.show()\n"
   ]
  },
  {
   "cell_type": "code",
   "execution_count": 43,
   "metadata": {
    "colab": {
     "base_uri": "https://localhost:8080/",
     "height": 480
    },
    "id": "SMph_eG0kHb0",
    "outputId": "e8542eb4-f249-4614-db6a-807eb5f78584"
   },
   "outputs": [
    {
     "data": {
      "image/png": "[encoded data removed]",
      "text/plain": [
       "<Figure size 432x288 with 1 Axes>"
      ]
     },
     "metadata": {
      "needs_background": "light"
     },
     "output_type": "display_data"
    }
   ],
   "source": [
    "# age distribution where work type is Children\n",
    "\n",
    "df_children = df[df['work_type'] == 'children']\n",
    "df_children['age'].hist(bins=10, edgecolor='black')\n",
    "plt.xlabel('Age')\n",
    "plt.ylabel('Frequency')\n",
    "plt.title('Age Distribution for Patients with Work Type \"Children\"')\n",
    "plt.show()\n"
   ]
  },
  {
   "cell_type": "code",
   "execution_count": 45,
   "metadata": {
    "colab": {
     "base_uri": "https://localhost:8080/",
     "height": 532
    },
    "id": "2wWh076kjgvB",
    "outputId": "e4e75753-3b40-4fb0-a2a1-b4087cb6755e"
   },
   "outputs": [
    {
     "data": {
      "image/png": "[encoded data removed]",
      "text/plain": [
       "<Figure size 864x432 with 2 Axes>"
      ]
     },
     "metadata": {
      "needs_background": "light"
     },
     "output_type": "display_data"
    },
    {
     "data": {
      "text/plain": [
       "<Figure size 432x288 with 0 Axes>"
      ]
     },
     "metadata": {},
     "output_type": "display_data"
    }
   ],
   "source": [
    "# Create a figure and two subplots\n",
    "fig, (ax1, ax2) = plt.subplots(1, 2, figsize=(12, 6))\n",
    "\n",
    "# Plot the histogram of age for private workers in df\n",
    "ax1.hist(df[df['work_type'] == 'Private']['age'], edgecolor='black', color='salmon')\n",
    "ax1.set_xlabel('Age')\n",
    "ax1.set_ylabel('Frequency')\n",
    "ax1.set_title('All Patient`s Age Distribution for Private Workers')\n",
    "\n",
    "# Plot the histogram of age for private workers in df_stroke\n",
    "ax2.hist(df_stroke[df_stroke['work_type'] == 'Private']['age'], edgecolor='black', color='lightblue')\n",
    "ax2.set_xlabel('Age')\n",
    "ax2.set_ylabel('Frequency')\n",
    "ax2.set_title('Stroke Patient`s Age Distribution for Private Workers')\n",
    "\n",
    "# Show the plot\n",
    "plt.show()\n",
    "plt.savefig(\"Age Distribution for Private Workers.png\")"
   ]
  },
  {
   "cell_type": "code",
   "execution_count": null,
   "metadata": {
    "colab": {
     "base_uri": "https://localhost:8080/"
    },
    "id": "ARi4WMDrgwtn",
    "outputId": "1e7d8f6e-6e6d-4d47-a9eb-bcd1f2faa505"
   },
   "outputs": [
    {
     "name": "stdout",
     "output_type": "stream",
     "text": [
      "Number of instances with work type 'children': 671\n"
     ]
    }
   ],
   "source": [
    "# instances those have children as `work type`\n",
    "\n",
    "children_work_type_count = df[df['work_type'] == 'children'].shape[0]\n",
    "print(f\"Number of instances with work type 'children': {children_work_type_count}\")\n"
   ]
  },
  {
   "cell_type": "markdown",
   "metadata": {
    "id": "3TJvL9SEnJuG"
   },
   "source": [
    "### Removing outliers\n",
    "\n",
    "* bmi > 60 : total 13; none had stroke  ✅\n",
    "* stroke patient under `age` 30 are outliers - index[245] ✅\n",
    "* by removing all `work_type` = children ✅\n",
    "* there's only one `gender`'s value is others - index[3116] ✅\n",
    "* for all patients (not stroke + stroke) - experiment ⬇\n",
    "  1. by keeping under 30 `age`\n",
    "  2. by removing under 30 `age`\n",
    "  3. by removing all `work_type` = children ✅\n",
    "  * [Which model performs better]\n",
    "\n",
    "\n",
    "---\n",
    "\n"
   ]
  },
  {
   "cell_type": "markdown",
   "metadata": {
    "id": "gTIU2VkJkCN6"
   },
   "source": [
    "* remove `bmi` over 60"
   ]
  },
  {
   "cell_type": "code",
   "execution_count": null,
   "metadata": {
    "colab": {
     "base_uri": "https://localhost:8080/"
    },
    "id": "O6_ttzaqE-9w",
    "outputId": "d91ef6ca-819a-4216-8faa-c48cad1065a9"
   },
   "outputs": [
    {
     "name": "stdout",
     "output_type": "stream",
     "text": [
      "13 Rows had over  60  bmi. Those are removed\n"
     ]
    }
   ],
   "source": [
    "# bmi that have value higher than 60 and remove the instances\n",
    "\n",
    "# Get the indices of rows where bmi is greater than 60\n",
    "over_bmi = 60\n",
    "bmi_outliers = df[df['bmi'] > over_bmi].index\n",
    "\n",
    "# Drop the rows with outlier bmi values\n",
    "df = df.drop(bmi_outliers)\n",
    "print(f'{len(bmi_outliers)} Rows had over ',over_bmi,' bmi. Those are removed')"
   ]
  },
  {
   "cell_type": "markdown",
   "metadata": {
    "id": "tnLXu1ccpMSd"
   },
   "source": [
    "* remove the `stroke` patient who's `age < 30`"
   ]
  },
  {
   "cell_type": "code",
   "execution_count": 46,
   "metadata": {
    "id": "LAmIryZyoC_Q"
   },
   "outputs": [],
   "source": [
    "# remove the index 245\n",
    "\n",
    "df = df.drop(245)\n",
    "df_stroke = df_stroke.drop(245)"
   ]
  },
  {
   "cell_type": "markdown",
   "metadata": {
    "id": "2abWa7Z0kzKT"
   },
   "source": [
    "* remove all the `work_type=children`"
   ]
  },
  {
   "cell_type": "code",
   "execution_count": 47,
   "metadata": {
    "colab": {
     "base_uri": "https://localhost:8080/"
    },
    "id": "W5XjOt1Xk_-O",
    "outputId": "f621812c-f433-49de-ea98-69359f19a249"
   },
   "outputs": [
    {
     "name": "stdout",
     "output_type": "stream",
     "text": [
      "670 Rows are removed\n"
     ]
    }
   ],
   "source": [
    "remove_children=df[df['work_type']=='children'].index\n",
    "\n",
    "# drop children\n",
    "df = df.drop(remove_children)\n",
    "print(f'{len(remove_children)} Rows are removed')"
   ]
  },
  {
   "cell_type": "code",
   "execution_count": 37,
   "metadata": {},
   "outputs": [
    {
     "data": {
      "text/plain": [
       "0"
      ]
     },
     "execution_count": 37,
     "metadata": {},
     "output_type": "execute_result"
    }
   ],
   "source": [
    "age_outliers = df[df['age']<30.0].index\n",
    "len(age_outliers)"
   ]
  },
  {
   "cell_type": "code",
   "execution_count": 39,
   "metadata": {
    "colab": {
     "base_uri": "https://localhost:8080/"
    },
    "id": "nCqdIWZ0w62w",
    "outputId": "af82e19e-b017-4abc-bfb4-20b75abb57f4"
   },
   "outputs": [
    {
     "name": "stdout",
     "output_type": "stream",
     "text": [
      "0 Rows are removed\n"
     ]
    }
   ],
   "source": [
    "# drop the instances where age<30\n",
    "\n",
    "if df['age'].all()<30:\n",
    "  age_outliers = df[df['age']<30].index\n",
    "\n",
    "  # drop the age<30\n",
    "  df = df.drop(age_outliers)\n",
    "  df_stroke = df_stroke.drop(age_outliers)\n",
    "  print(f'{len(age_outliers)} Rows are removed')\n",
    "else:\n",
    "  print('No data found')"
   ]
  },
  {
   "cell_type": "markdown",
   "metadata": {
    "id": "6-NxyDn2jtPO"
   },
   "source": [
    "* remove other `gender`"
   ]
  },
  {
   "cell_type": "code",
   "execution_count": 50,
   "metadata": {
    "colab": {
     "base_uri": "https://localhost:8080/"
    },
    "id": "9oPmVk3OG5fp",
    "outputId": "519d1455-0132-42fb-a66b-05cbb8d31468"
   },
   "outputs": [
    {
     "name": "stdout",
     "output_type": "stream",
     "text": [
      "Unsuccessful: No rows with gender \"Other\" found.\n"
     ]
    }
   ],
   "source": [
    "# removing Other gender\n",
    "\n",
    "# Get the indices of rows where gender is 'Other'\n",
    "gender_other_indices = df[df['gender'] == 'Other'].index\n",
    "\n",
    "# Check if there are any rows with gender 'Other'\n",
    "if len(gender_other_indices) > 0:\n",
    "  # Drop the rows with gender 'Other'\n",
    "  df = df.drop(gender_other_indices)\n",
    "  print('Successful: Row(s) with gender \"Other\" removed.')\n",
    "else:\n",
    "  print('Unsuccessful: No rows with gender \"Other\" found.')\n"
   ]
  },
  {
   "cell_type": "markdown",
   "metadata": {
    "id": "jqw53MwJO0Gq"
   },
   "source": [
    "### Changing categorical values to numerical type\n",
    "* ~`gender` : Male - 0 ; Female - 1~ ❌\n",
    "* `smoking_status` :['formerly smoked' 'never smoked' 'smokes' 'Unknown'] ✅\n",
    "* `work_type` : ['Private' 'Self-employed' 'Govt_job' 'children' 'Never_worked'] ✅\n",
    "* ~`ever_married`  ['Yes' 'No']~ ❌\n",
    "* ~`Residence_type`  ['Urban' 'Rural']~ ❌\n",
    "\n",
    "\n",
    "---\n",
    "\n",
    "\n",
    "As `smoking_status` and `work_type` catagories depicted to have relation with `stroke` atrribute while conducting EDA.So, these feature's instances would be turn into numerical data so that Machine can train upon the attributes."
   ]
  },
  {
   "cell_type": "markdown",
   "metadata": {
    "id": "XBAHQc38u2yC"
   },
   "source": [
    "* converting work_type attributes value from string to integer"
   ]
  },
  {
   "cell_type": "code",
   "execution_count": 18,
   "metadata": {
    "colab": {
     "base_uri": "https://localhost:8080/"
    },
    "id": "sNZP4jhUttOB",
    "outputId": "b9da5daf-5684-47e0-c0cb-c46179751a4f"
   },
   "outputs": [
    {
     "name": "stdout",
     "output_type": "stream",
     "text": [
      "Already Converted into nemerical format\n"
     ]
    }
   ],
   "source": [
    "if any(df['work_type'] == 'Private'):\n",
    "    work_type_mapping = {\n",
    "      'Private': 1,\n",
    "      'Self-employed': 2,\n",
    "      'Govt_job': 3,\n",
    "      'Never_worked': 4}\n",
    "  # Replace the categorical values in the 'work_type' column with numerical values\n",
    "    df['work_type'] = df['work_type'].map(work_type_mapping)\n",
    "    print('Converted datatype into numerical format.')\n",
    "\n",
    "else:\n",
    "    print('Already Converted into nemerical format')"
   ]
  },
  {
   "cell_type": "code",
   "execution_count": 19,
   "metadata": {
    "colab": {
     "base_uri": "https://localhost:8080/",
     "height": 444
    },
    "id": "Pao_DnLrnW2_",
    "outputId": "cd0577d0-21d8-47dc-c4c1-f048da4e95e8",
    "scrolled": true
   },
   "outputs": [
    {
     "data": {
      "text/html": [
       "<div>\n",
       "<style scoped>\n",
       "    .dataframe tbody tr th:only-of-type {\n",
       "        vertical-align: middle;\n",
       "    }\n",
       "\n",
       "    .dataframe tbody tr th {\n",
       "        vertical-align: top;\n",
       "    }\n",
       "\n",
       "    .dataframe thead th {\n",
       "        text-align: right;\n",
       "    }\n",
       "</style>\n",
       "<table border=\"1\" class=\"dataframe\">\n",
       "  <thead>\n",
       "    <tr style=\"text-align: right;\">\n",
       "      <th></th>\n",
       "      <th>gender</th>\n",
       "      <th>age</th>\n",
       "      <th>hypertension</th>\n",
       "      <th>heart_disease</th>\n",
       "      <th>ever_married</th>\n",
       "      <th>work_type</th>\n",
       "      <th>Residence_type</th>\n",
       "      <th>avg_glucose_level</th>\n",
       "      <th>bmi</th>\n",
       "      <th>smoking_status</th>\n",
       "      <th>stroke</th>\n",
       "    </tr>\n",
       "  </thead>\n",
       "  <tbody>\n",
       "    <tr>\n",
       "      <th>0</th>\n",
       "      <td>Male</td>\n",
       "      <td>67.0</td>\n",
       "      <td>0</td>\n",
       "      <td>1</td>\n",
       "      <td>Yes</td>\n",
       "      <td>1</td>\n",
       "      <td>Urban</td>\n",
       "      <td>228.69</td>\n",
       "      <td>36.6</td>\n",
       "      <td>formerly smoked</td>\n",
       "      <td>1</td>\n",
       "    </tr>\n",
       "    <tr>\n",
       "      <th>1</th>\n",
       "      <td>Male</td>\n",
       "      <td>80.0</td>\n",
       "      <td>0</td>\n",
       "      <td>1</td>\n",
       "      <td>Yes</td>\n",
       "      <td>1</td>\n",
       "      <td>Rural</td>\n",
       "      <td>105.92</td>\n",
       "      <td>32.5</td>\n",
       "      <td>never smoked</td>\n",
       "      <td>1</td>\n",
       "    </tr>\n",
       "    <tr>\n",
       "      <th>2</th>\n",
       "      <td>Female</td>\n",
       "      <td>49.0</td>\n",
       "      <td>0</td>\n",
       "      <td>0</td>\n",
       "      <td>Yes</td>\n",
       "      <td>1</td>\n",
       "      <td>Urban</td>\n",
       "      <td>171.23</td>\n",
       "      <td>34.4</td>\n",
       "      <td>smokes</td>\n",
       "      <td>1</td>\n",
       "    </tr>\n",
       "    <tr>\n",
       "      <th>3</th>\n",
       "      <td>Female</td>\n",
       "      <td>79.0</td>\n",
       "      <td>1</td>\n",
       "      <td>0</td>\n",
       "      <td>Yes</td>\n",
       "      <td>2</td>\n",
       "      <td>Rural</td>\n",
       "      <td>174.12</td>\n",
       "      <td>24.0</td>\n",
       "      <td>never smoked</td>\n",
       "      <td>1</td>\n",
       "    </tr>\n",
       "    <tr>\n",
       "      <th>4</th>\n",
       "      <td>Male</td>\n",
       "      <td>81.0</td>\n",
       "      <td>0</td>\n",
       "      <td>0</td>\n",
       "      <td>Yes</td>\n",
       "      <td>1</td>\n",
       "      <td>Urban</td>\n",
       "      <td>186.21</td>\n",
       "      <td>29.0</td>\n",
       "      <td>formerly smoked</td>\n",
       "      <td>1</td>\n",
       "    </tr>\n",
       "    <tr>\n",
       "      <th>...</th>\n",
       "      <td>...</td>\n",
       "      <td>...</td>\n",
       "      <td>...</td>\n",
       "      <td>...</td>\n",
       "      <td>...</td>\n",
       "      <td>...</td>\n",
       "      <td>...</td>\n",
       "      <td>...</td>\n",
       "      <td>...</td>\n",
       "      <td>...</td>\n",
       "      <td>...</td>\n",
       "    </tr>\n",
       "    <tr>\n",
       "      <th>3412</th>\n",
       "      <td>Female</td>\n",
       "      <td>57.0</td>\n",
       "      <td>0</td>\n",
       "      <td>0</td>\n",
       "      <td>Yes</td>\n",
       "      <td>1</td>\n",
       "      <td>Rural</td>\n",
       "      <td>77.93</td>\n",
       "      <td>21.7</td>\n",
       "      <td>never smoked</td>\n",
       "      <td>0</td>\n",
       "    </tr>\n",
       "    <tr>\n",
       "      <th>3413</th>\n",
       "      <td>Female</td>\n",
       "      <td>81.0</td>\n",
       "      <td>0</td>\n",
       "      <td>0</td>\n",
       "      <td>Yes</td>\n",
       "      <td>2</td>\n",
       "      <td>Urban</td>\n",
       "      <td>125.20</td>\n",
       "      <td>40.0</td>\n",
       "      <td>never smoked</td>\n",
       "      <td>0</td>\n",
       "    </tr>\n",
       "    <tr>\n",
       "      <th>3414</th>\n",
       "      <td>Female</td>\n",
       "      <td>35.0</td>\n",
       "      <td>0</td>\n",
       "      <td>0</td>\n",
       "      <td>Yes</td>\n",
       "      <td>2</td>\n",
       "      <td>Rural</td>\n",
       "      <td>82.99</td>\n",
       "      <td>30.6</td>\n",
       "      <td>never smoked</td>\n",
       "      <td>0</td>\n",
       "    </tr>\n",
       "    <tr>\n",
       "      <th>3415</th>\n",
       "      <td>Male</td>\n",
       "      <td>51.0</td>\n",
       "      <td>0</td>\n",
       "      <td>0</td>\n",
       "      <td>Yes</td>\n",
       "      <td>1</td>\n",
       "      <td>Rural</td>\n",
       "      <td>166.29</td>\n",
       "      <td>25.6</td>\n",
       "      <td>formerly smoked</td>\n",
       "      <td>0</td>\n",
       "    </tr>\n",
       "    <tr>\n",
       "      <th>3416</th>\n",
       "      <td>Female</td>\n",
       "      <td>44.0</td>\n",
       "      <td>0</td>\n",
       "      <td>0</td>\n",
       "      <td>Yes</td>\n",
       "      <td>3</td>\n",
       "      <td>Urban</td>\n",
       "      <td>85.28</td>\n",
       "      <td>26.2</td>\n",
       "      <td>Unknown</td>\n",
       "      <td>0</td>\n",
       "    </tr>\n",
       "  </tbody>\n",
       "</table>\n",
       "<p>3417 rows × 11 columns</p>\n",
       "</div>"
      ],
      "text/plain": [
       "      gender   age  hypertension  heart_disease ever_married  work_type  \\\n",
       "0       Male  67.0             0              1          Yes          1   \n",
       "1       Male  80.0             0              1          Yes          1   \n",
       "2     Female  49.0             0              0          Yes          1   \n",
       "3     Female  79.0             1              0          Yes          2   \n",
       "4       Male  81.0             0              0          Yes          1   \n",
       "...      ...   ...           ...            ...          ...        ...   \n",
       "3412  Female  57.0             0              0          Yes          1   \n",
       "3413  Female  81.0             0              0          Yes          2   \n",
       "3414  Female  35.0             0              0          Yes          2   \n",
       "3415    Male  51.0             0              0          Yes          1   \n",
       "3416  Female  44.0             0              0          Yes          3   \n",
       "\n",
       "     Residence_type  avg_glucose_level   bmi   smoking_status  stroke  \n",
       "0             Urban             228.69  36.6  formerly smoked       1  \n",
       "1             Rural             105.92  32.5     never smoked       1  \n",
       "2             Urban             171.23  34.4           smokes       1  \n",
       "3             Rural             174.12  24.0     never smoked       1  \n",
       "4             Urban             186.21  29.0  formerly smoked       1  \n",
       "...             ...                ...   ...              ...     ...  \n",
       "3412          Rural              77.93  21.7     never smoked       0  \n",
       "3413          Urban             125.20  40.0     never smoked       0  \n",
       "3414          Rural              82.99  30.6     never smoked       0  \n",
       "3415          Rural             166.29  25.6  formerly smoked       0  \n",
       "3416          Urban              85.28  26.2          Unknown       0  \n",
       "\n",
       "[3417 rows x 11 columns]"
      ]
     },
     "execution_count": 19,
     "metadata": {},
     "output_type": "execute_result"
    }
   ],
   "source": [
    "df"
   ]
  },
  {
   "cell_type": "markdown",
   "metadata": {
    "id": "c2tdHgRLngcV"
   },
   "source": [
    "`LabelEncoder` : for ordinal values\n",
    "`OneHotEncoder`: for nominal values"
   ]
  },
  {
   "cell_type": "markdown",
   "metadata": {
    "id": "euJmS5-qosyJ"
   },
   "source": [
    "Changing values of `gender`\n",
    "* Male->0\n",
    "* Female->1"
   ]
  },
  {
   "cell_type": "code",
   "execution_count": null,
   "metadata": {
    "id": "eWXlWtL2JznE"
   },
   "outputs": [],
   "source": [
    "# change the value of gender where the values will be Male=0; and Female=1\n",
    "\n",
    "#gender_mapping = {'Male': 0, 'Female': 1}\n",
    "#df['gender'] = df['gender'].map(gender_mapping)"
   ]
  },
  {
   "cell_type": "code",
   "execution_count": 53,
   "metadata": {
    "colab": {
     "base_uri": "https://localhost:8080/",
     "height": 300
    },
    "id": "te2ZKSGsAJCr",
    "outputId": "02d4f202-1f68-428e-e4a7-f467d6cf947b"
   },
   "outputs": [
    {
     "data": {
      "text/html": [
       "<div>\n",
       "<style scoped>\n",
       "    .dataframe tbody tr th:only-of-type {\n",
       "        vertical-align: middle;\n",
       "    }\n",
       "\n",
       "    .dataframe tbody tr th {\n",
       "        vertical-align: top;\n",
       "    }\n",
       "\n",
       "    .dataframe thead th {\n",
       "        text-align: right;\n",
       "    }\n",
       "</style>\n",
       "<table border=\"1\" class=\"dataframe\">\n",
       "  <thead>\n",
       "    <tr style=\"text-align: right;\">\n",
       "      <th></th>\n",
       "      <th>age</th>\n",
       "      <th>hypertension</th>\n",
       "      <th>heart_disease</th>\n",
       "      <th>work_type</th>\n",
       "      <th>avg_glucose_level</th>\n",
       "      <th>bmi</th>\n",
       "      <th>stroke</th>\n",
       "    </tr>\n",
       "  </thead>\n",
       "  <tbody>\n",
       "    <tr>\n",
       "      <th>count</th>\n",
       "      <td>3426.000000</td>\n",
       "      <td>3426.000000</td>\n",
       "      <td>3426.000000</td>\n",
       "      <td>3426.000000</td>\n",
       "      <td>3426.000000</td>\n",
       "      <td>3426.000000</td>\n",
       "      <td>3426.000000</td>\n",
       "    </tr>\n",
       "    <tr>\n",
       "      <th>mean</th>\n",
       "      <td>54.884121</td>\n",
       "      <td>0.128722</td>\n",
       "      <td>0.070344</td>\n",
       "      <td>1.547285</td>\n",
       "      <td>110.116112</td>\n",
       "      <td>30.919469</td>\n",
       "      <td>0.060712</td>\n",
       "    </tr>\n",
       "    <tr>\n",
       "      <th>std</th>\n",
       "      <td>14.754982</td>\n",
       "      <td>0.334940</td>\n",
       "      <td>0.255764</td>\n",
       "      <td>0.762409</td>\n",
       "      <td>49.264022</td>\n",
       "      <td>7.129056</td>\n",
       "      <td>0.238837</td>\n",
       "    </tr>\n",
       "    <tr>\n",
       "      <th>min</th>\n",
       "      <td>30.000000</td>\n",
       "      <td>0.000000</td>\n",
       "      <td>0.000000</td>\n",
       "      <td>1.000000</td>\n",
       "      <td>55.220000</td>\n",
       "      <td>11.300000</td>\n",
       "      <td>0.000000</td>\n",
       "    </tr>\n",
       "    <tr>\n",
       "      <th>25%</th>\n",
       "      <td>43.000000</td>\n",
       "      <td>0.000000</td>\n",
       "      <td>0.000000</td>\n",
       "      <td>1.000000</td>\n",
       "      <td>77.670000</td>\n",
       "      <td>26.100000</td>\n",
       "      <td>0.000000</td>\n",
       "    </tr>\n",
       "    <tr>\n",
       "      <th>50%</th>\n",
       "      <td>54.000000</td>\n",
       "      <td>0.000000</td>\n",
       "      <td>0.000000</td>\n",
       "      <td>1.000000</td>\n",
       "      <td>93.005000</td>\n",
       "      <td>29.750000</td>\n",
       "      <td>0.000000</td>\n",
       "    </tr>\n",
       "    <tr>\n",
       "      <th>75%</th>\n",
       "      <td>66.000000</td>\n",
       "      <td>0.000000</td>\n",
       "      <td>0.000000</td>\n",
       "      <td>2.000000</td>\n",
       "      <td>118.672500</td>\n",
       "      <td>34.500000</td>\n",
       "      <td>0.000000</td>\n",
       "    </tr>\n",
       "    <tr>\n",
       "      <th>max</th>\n",
       "      <td>82.000000</td>\n",
       "      <td>1.000000</td>\n",
       "      <td>1.000000</td>\n",
       "      <td>3.000000</td>\n",
       "      <td>271.740000</td>\n",
       "      <td>92.000000</td>\n",
       "      <td>1.000000</td>\n",
       "    </tr>\n",
       "  </tbody>\n",
       "</table>\n",
       "</div>"
      ],
      "text/plain": [
       "               age  hypertension  heart_disease    work_type  \\\n",
       "count  3426.000000   3426.000000    3426.000000  3426.000000   \n",
       "mean     54.884121      0.128722       0.070344     1.547285   \n",
       "std      14.754982      0.334940       0.255764     0.762409   \n",
       "min      30.000000      0.000000       0.000000     1.000000   \n",
       "25%      43.000000      0.000000       0.000000     1.000000   \n",
       "50%      54.000000      0.000000       0.000000     1.000000   \n",
       "75%      66.000000      0.000000       0.000000     2.000000   \n",
       "max      82.000000      1.000000       1.000000     3.000000   \n",
       "\n",
       "       avg_glucose_level          bmi       stroke  \n",
       "count        3426.000000  3426.000000  3426.000000  \n",
       "mean          110.116112    30.919469     0.060712  \n",
       "std            49.264022     7.129056     0.238837  \n",
       "min            55.220000    11.300000     0.000000  \n",
       "25%            77.670000    26.100000     0.000000  \n",
       "50%            93.005000    29.750000     0.000000  \n",
       "75%           118.672500    34.500000     0.000000  \n",
       "max           271.740000    92.000000     1.000000  "
      ]
     },
     "execution_count": 53,
     "metadata": {},
     "output_type": "execute_result"
    }
   ],
   "source": [
    "df.describe()"
   ]
  },
  {
   "cell_type": "markdown",
   "metadata": {
    "id": "3oXwC5H6GRgk"
   },
   "source": [
    "### Correlation Matrix"
   ]
  },
  {
   "cell_type": "code",
   "execution_count": 54,
   "metadata": {
    "colab": {
     "base_uri": "https://localhost:8080/",
     "height": 783
    },
    "id": "LdLQXra79cgn",
    "outputId": "7cf6a4c3-1fa8-46db-fd2d-57f86211a9b4"
   },
   "outputs": [
    {
     "data": {
      "image/png": "[encoded data removed]",
      "text/plain": [
       "<Figure size 720x504 with 2 Axes>"
      ]
     },
     "metadata": {
      "needs_background": "light"
     },
     "output_type": "display_data"
    }
   ],
   "source": [
    "# corr() to calculate the correlation between variables\n",
    "correlation_matrix = df.corr().round(2)\n",
    "# changing the figure size\n",
    "#plt.figure(figsize = (10, 7))\n",
    "\n",
    "# Steps to remove redundant values\n",
    "# Return a array filled with zeros\n",
    "mask = np.zeros_like(correlation_matrix)\n",
    "# Return the indices for the upper-triangle of array\n",
    "mask[np.triu_indices_from(mask)] = True\n",
    "# changing the figure size\n",
    "plt.figure(figsize = (10, 7))\n",
    "\n",
    "# \"annot = True\" to print the values inside the square\n",
    "sns.heatmap(data=correlation_matrix, annot=True, mask=mask);"
   ]
  },
  {
   "cell_type": "markdown",
   "metadata": {
    "id": "0qt66tYF6iEA"
   },
   "source": [
    "### Save the pre-processed data into CSV"
   ]
  },
  {
   "cell_type": "code",
   "execution_count": 20,
   "metadata": {
    "id": "yeP78g956p21"
   },
   "outputs": [],
   "source": [
    "# save pre-processed df into a csv file\n",
    "\n",
    "file_location='Dataset/test-train-data.csv'\n",
    "#df.to_csv(file_location)"
   ]
  },
  {
   "cell_type": "markdown",
   "metadata": {
    "id": "6DKGSuOLNs9y"
   },
   "source": [
    "### Load pre-processed data"
   ]
  },
  {
   "cell_type": "code",
   "execution_count": 23,
   "metadata": {
    "id": "QqAw0Xdgmcpq"
   },
   "outputs": [],
   "source": [
    "# Specify the file location and name\n",
    "file_location='Dataset/test-train-data.csv'\n",
    "\n",
    "# Read the CSV file into a pandas DataFrame\n",
    "df = pd.read_csv(file_location)"
   ]
  },
  {
   "cell_type": "code",
   "execution_count": 24,
   "metadata": {
    "colab": {
     "base_uri": "https://localhost:8080/",
     "height": 461
    },
    "id": "uG2raKet6bau",
    "outputId": "83743314-d577-4e0f-c42f-e708b515054b"
   },
   "outputs": [
    {
     "data": {
      "text/html": [
       "<div>\n",
       "<style scoped>\n",
       "    .dataframe tbody tr th:only-of-type {\n",
       "        vertical-align: middle;\n",
       "    }\n",
       "\n",
       "    .dataframe tbody tr th {\n",
       "        vertical-align: top;\n",
       "    }\n",
       "\n",
       "    .dataframe thead th {\n",
       "        text-align: right;\n",
       "    }\n",
       "</style>\n",
       "<table border=\"1\" class=\"dataframe\">\n",
       "  <thead>\n",
       "    <tr style=\"text-align: right;\">\n",
       "      <th></th>\n",
       "      <th>Unnamed: 0</th>\n",
       "      <th>gender</th>\n",
       "      <th>age</th>\n",
       "      <th>hypertension</th>\n",
       "      <th>heart_disease</th>\n",
       "      <th>ever_married</th>\n",
       "      <th>work_type</th>\n",
       "      <th>Residence_type</th>\n",
       "      <th>avg_glucose_level</th>\n",
       "      <th>bmi</th>\n",
       "      <th>smoking_status</th>\n",
       "      <th>stroke</th>\n",
       "    </tr>\n",
       "  </thead>\n",
       "  <tbody>\n",
       "    <tr>\n",
       "      <th>0</th>\n",
       "      <td>0</td>\n",
       "      <td>Male</td>\n",
       "      <td>67.0</td>\n",
       "      <td>0</td>\n",
       "      <td>1</td>\n",
       "      <td>Yes</td>\n",
       "      <td>1</td>\n",
       "      <td>Urban</td>\n",
       "      <td>228.69</td>\n",
       "      <td>36.6</td>\n",
       "      <td>formerly smoked</td>\n",
       "      <td>1</td>\n",
       "    </tr>\n",
       "    <tr>\n",
       "      <th>1</th>\n",
       "      <td>1</td>\n",
       "      <td>Male</td>\n",
       "      <td>80.0</td>\n",
       "      <td>0</td>\n",
       "      <td>1</td>\n",
       "      <td>Yes</td>\n",
       "      <td>1</td>\n",
       "      <td>Rural</td>\n",
       "      <td>105.92</td>\n",
       "      <td>32.5</td>\n",
       "      <td>never smoked</td>\n",
       "      <td>1</td>\n",
       "    </tr>\n",
       "    <tr>\n",
       "      <th>2</th>\n",
       "      <td>2</td>\n",
       "      <td>Female</td>\n",
       "      <td>49.0</td>\n",
       "      <td>0</td>\n",
       "      <td>0</td>\n",
       "      <td>Yes</td>\n",
       "      <td>1</td>\n",
       "      <td>Urban</td>\n",
       "      <td>171.23</td>\n",
       "      <td>34.4</td>\n",
       "      <td>smokes</td>\n",
       "      <td>1</td>\n",
       "    </tr>\n",
       "    <tr>\n",
       "      <th>3</th>\n",
       "      <td>3</td>\n",
       "      <td>Female</td>\n",
       "      <td>79.0</td>\n",
       "      <td>1</td>\n",
       "      <td>0</td>\n",
       "      <td>Yes</td>\n",
       "      <td>2</td>\n",
       "      <td>Rural</td>\n",
       "      <td>174.12</td>\n",
       "      <td>24.0</td>\n",
       "      <td>never smoked</td>\n",
       "      <td>1</td>\n",
       "    </tr>\n",
       "    <tr>\n",
       "      <th>4</th>\n",
       "      <td>4</td>\n",
       "      <td>Male</td>\n",
       "      <td>81.0</td>\n",
       "      <td>0</td>\n",
       "      <td>0</td>\n",
       "      <td>Yes</td>\n",
       "      <td>1</td>\n",
       "      <td>Urban</td>\n",
       "      <td>186.21</td>\n",
       "      <td>29.0</td>\n",
       "      <td>formerly smoked</td>\n",
       "      <td>1</td>\n",
       "    </tr>\n",
       "    <tr>\n",
       "      <th>...</th>\n",
       "      <td>...</td>\n",
       "      <td>...</td>\n",
       "      <td>...</td>\n",
       "      <td>...</td>\n",
       "      <td>...</td>\n",
       "      <td>...</td>\n",
       "      <td>...</td>\n",
       "      <td>...</td>\n",
       "      <td>...</td>\n",
       "      <td>...</td>\n",
       "      <td>...</td>\n",
       "      <td>...</td>\n",
       "    </tr>\n",
       "    <tr>\n",
       "      <th>3412</th>\n",
       "      <td>3412</td>\n",
       "      <td>Female</td>\n",
       "      <td>57.0</td>\n",
       "      <td>0</td>\n",
       "      <td>0</td>\n",
       "      <td>Yes</td>\n",
       "      <td>1</td>\n",
       "      <td>Rural</td>\n",
       "      <td>77.93</td>\n",
       "      <td>21.7</td>\n",
       "      <td>never smoked</td>\n",
       "      <td>0</td>\n",
       "    </tr>\n",
       "    <tr>\n",
       "      <th>3413</th>\n",
       "      <td>3413</td>\n",
       "      <td>Female</td>\n",
       "      <td>81.0</td>\n",
       "      <td>0</td>\n",
       "      <td>0</td>\n",
       "      <td>Yes</td>\n",
       "      <td>2</td>\n",
       "      <td>Urban</td>\n",
       "      <td>125.20</td>\n",
       "      <td>40.0</td>\n",
       "      <td>never smoked</td>\n",
       "      <td>0</td>\n",
       "    </tr>\n",
       "    <tr>\n",
       "      <th>3414</th>\n",
       "      <td>3414</td>\n",
       "      <td>Female</td>\n",
       "      <td>35.0</td>\n",
       "      <td>0</td>\n",
       "      <td>0</td>\n",
       "      <td>Yes</td>\n",
       "      <td>2</td>\n",
       "      <td>Rural</td>\n",
       "      <td>82.99</td>\n",
       "      <td>30.6</td>\n",
       "      <td>never smoked</td>\n",
       "      <td>0</td>\n",
       "    </tr>\n",
       "    <tr>\n",
       "      <th>3415</th>\n",
       "      <td>3415</td>\n",
       "      <td>Male</td>\n",
       "      <td>51.0</td>\n",
       "      <td>0</td>\n",
       "      <td>0</td>\n",
       "      <td>Yes</td>\n",
       "      <td>1</td>\n",
       "      <td>Rural</td>\n",
       "      <td>166.29</td>\n",
       "      <td>25.6</td>\n",
       "      <td>formerly smoked</td>\n",
       "      <td>0</td>\n",
       "    </tr>\n",
       "    <tr>\n",
       "      <th>3416</th>\n",
       "      <td>3416</td>\n",
       "      <td>Female</td>\n",
       "      <td>44.0</td>\n",
       "      <td>0</td>\n",
       "      <td>0</td>\n",
       "      <td>Yes</td>\n",
       "      <td>3</td>\n",
       "      <td>Urban</td>\n",
       "      <td>85.28</td>\n",
       "      <td>26.2</td>\n",
       "      <td>Unknown</td>\n",
       "      <td>0</td>\n",
       "    </tr>\n",
       "  </tbody>\n",
       "</table>\n",
       "<p>3417 rows × 12 columns</p>\n",
       "</div>"
      ],
      "text/plain": [
       "      Unnamed: 0  gender   age  hypertension  heart_disease ever_married  \\\n",
       "0              0    Male  67.0             0              1          Yes   \n",
       "1              1    Male  80.0             0              1          Yes   \n",
       "2              2  Female  49.0             0              0          Yes   \n",
       "3              3  Female  79.0             1              0          Yes   \n",
       "4              4    Male  81.0             0              0          Yes   \n",
       "...          ...     ...   ...           ...            ...          ...   \n",
       "3412        3412  Female  57.0             0              0          Yes   \n",
       "3413        3413  Female  81.0             0              0          Yes   \n",
       "3414        3414  Female  35.0             0              0          Yes   \n",
       "3415        3415    Male  51.0             0              0          Yes   \n",
       "3416        3416  Female  44.0             0              0          Yes   \n",
       "\n",
       "      work_type Residence_type  avg_glucose_level   bmi   smoking_status  \\\n",
       "0             1          Urban             228.69  36.6  formerly smoked   \n",
       "1             1          Rural             105.92  32.5     never smoked   \n",
       "2             1          Urban             171.23  34.4           smokes   \n",
       "3             2          Rural             174.12  24.0     never smoked   \n",
       "4             1          Urban             186.21  29.0  formerly smoked   \n",
       "...         ...            ...                ...   ...              ...   \n",
       "3412          1          Rural              77.93  21.7     never smoked   \n",
       "3413          2          Urban             125.20  40.0     never smoked   \n",
       "3414          2          Rural              82.99  30.6     never smoked   \n",
       "3415          1          Rural             166.29  25.6  formerly smoked   \n",
       "3416          3          Urban              85.28  26.2          Unknown   \n",
       "\n",
       "      stroke  \n",
       "0          1  \n",
       "1          1  \n",
       "2          1  \n",
       "3          1  \n",
       "4          1  \n",
       "...      ...  \n",
       "3412       0  \n",
       "3413       0  \n",
       "3414       0  \n",
       "3415       0  \n",
       "3416       0  \n",
       "\n",
       "[3417 rows x 12 columns]"
      ]
     },
     "execution_count": 24,
     "metadata": {},
     "output_type": "execute_result"
    }
   ],
   "source": [
    "df"
   ]
  },
  {
   "cell_type": "markdown",
   "metadata": {
    "id": "zrqHSFILlebG"
   },
   "source": [
    "Distribution of stroke values after pre-processing data"
   ]
  },
  {
   "cell_type": "code",
   "execution_count": 59,
   "metadata": {
    "colab": {
     "base_uri": "https://localhost:8080/",
     "height": 428
    },
    "id": "1Nfx8zJ0JU_x",
    "outputId": "fc53181c-4278-4739-d3c4-bcbad1e4c111"
   },
   "outputs": [
    {
     "data": {
      "image/png": "[encoded data removed]",
      "text/plain": [
       "<Figure size 432x288 with 1 Axes>"
      ]
     },
     "metadata": {},
     "output_type": "display_data"
    }
   ],
   "source": [
    "# a donut chart of stroke values\n",
    "\n",
    "stroke_values = df.groupby('stroke').size()\n",
    "\n",
    "labels = 'No Stroke', 'Stroke'\n",
    "colors = ['lightskyblue', 'red']\n",
    "\n",
    "plt.pie(stroke_values, labels=labels, autopct='%1.1f%%', startangle=0, colors=colors, wedgeprops={'width': 0.4})\n",
    "\n",
    "# Add a white circle in the middle to create a donut chart\n",
    "centre_circle = plt.Circle((0, 0), 0.70, fc='white')\n",
    "fig = plt.gcf()\n",
    "fig.gca().add_artist(centre_circle)\n",
    "\n",
    "plt.title('Stroke Value Distribution in the Dataset')\n",
    "plt.axis('equal')\n",
    "plt.show()\n"
   ]
  },
  {
   "cell_type": "code",
   "execution_count": 60,
   "metadata": {
    "colab": {
     "base_uri": "https://localhost:8080/"
    },
    "id": "Eae2BCtIJ079",
    "outputId": "ed691f69-7abc-4b0b-81ab-40937f0174ec"
   },
   "outputs": [
    {
     "name": "stdout",
     "output_type": "stream",
     "text": [
      "Number of patients with stroke value 0: 3218\n",
      "Number of patients with stroke value 1: 208\n"
     ]
    }
   ],
   "source": [
    "# how many of the stroke values have 0 and 1\n",
    "\n",
    "stroke_values = df.groupby('stroke').size()\n",
    "print(f\"Number of patients with stroke value 0: {stroke_values[0]}\")\n",
    "print(f\"Number of patients with stroke value 1: {stroke_values[1]}\")\n"
   ]
  },
  {
   "cell_type": "markdown",
   "metadata": {
    "id": "I39c8iGv9ejL"
   },
   "source": [
    "## Feature Selection"
   ]
  },
  {
   "cell_type": "markdown",
   "metadata": {
    "id": "ciXFlFyLy21k"
   },
   "source": [
    "Features:\n",
    "* age\n",
    "* hypertension\n",
    "* avg_glucose_level\n",
    "* bmi\n",
    "* [ work_type || smoking_status ]\n",
    "\n",
    "Target:\n",
    "* stroke"
   ]
  },
  {
   "cell_type": "code",
   "execution_count": 61,
   "metadata": {
    "id": "R2VCCuLF9iGF"
   },
   "outputs": [],
   "source": [
    "X = df[['age','hypertension','avg_glucose_level','bmi', 'work_type']]\n",
    "y = df['stroke']"
   ]
  },
  {
   "cell_type": "markdown",
   "metadata": {
    "id": "FH0Ivef5wXCf"
   },
   "source": [
    "* without work_type attribute"
   ]
  },
  {
   "cell_type": "code",
   "execution_count": null,
   "metadata": {
    "id": "HSpr6qeRwRHV"
   },
   "outputs": [],
   "source": [
    "X = df[['age','hypertension','avg_glucose_level','bmi']]\n",
    "y = df['stroke']"
   ]
  },
  {
   "cell_type": "markdown",
   "metadata": {
    "id": "bhpbGEbG07kL"
   },
   "source": [
    "## Model Creation"
   ]
  },
  {
   "cell_type": "markdown",
   "metadata": {
    "id": "deBdpwU_qavU"
   },
   "source": [
    "### Train-Test split (75-25)"
   ]
  },
  {
   "cell_type": "code",
   "execution_count": 62,
   "metadata": {
    "colab": {
     "base_uri": "https://localhost:8080/"
    },
    "id": "W28x7IAf0-F8",
    "outputId": "37f3db1b-facd-46e7-9750-02354b7eceb3"
   },
   "outputs": [
    {
     "name": "stdout",
     "output_type": "stream",
     "text": [
      "Feature train shape:  (2569, 5)\n",
      "Feature test shape:  (857, 5)\n",
      "Target train shape:  (2569,)\n",
      "Target test shape:  (857,)\n"
     ]
    }
   ],
   "source": [
    "X_train, X_test, y_train, y_test = train_test_split(X,y, test_size=0.25 , random_state=40)\n",
    "print(\"Feature train shape: \", X_train.shape)\n",
    "print(\"Feature test shape: \", X_test.shape)\n",
    "print(\"Target train shape: \", y_train.shape)\n",
    "print(\"Target test shape: \", y_test.shape)"
   ]
  },
  {
   "cell_type": "code",
   "execution_count": 63,
   "metadata": {
    "colab": {
     "base_uri": "https://localhost:8080/",
     "height": 206
    },
    "id": "tAGIb3CzrwzA",
    "outputId": "4e06c84e-fcac-439e-f59a-a54d47bbe86c"
   },
   "outputs": [
    {
     "data": {
      "text/html": [
       "<div>\n",
       "<style scoped>\n",
       "    .dataframe tbody tr th:only-of-type {\n",
       "        vertical-align: middle;\n",
       "    }\n",
       "\n",
       "    .dataframe tbody tr th {\n",
       "        vertical-align: top;\n",
       "    }\n",
       "\n",
       "    .dataframe thead th {\n",
       "        text-align: right;\n",
       "    }\n",
       "</style>\n",
       "<table border=\"1\" class=\"dataframe\">\n",
       "  <thead>\n",
       "    <tr style=\"text-align: right;\">\n",
       "      <th></th>\n",
       "      <th>age</th>\n",
       "      <th>hypertension</th>\n",
       "      <th>avg_glucose_level</th>\n",
       "      <th>bmi</th>\n",
       "      <th>work_type</th>\n",
       "    </tr>\n",
       "  </thead>\n",
       "  <tbody>\n",
       "    <tr>\n",
       "      <th>186</th>\n",
       "      <td>63.0</td>\n",
       "      <td>0</td>\n",
       "      <td>116.69</td>\n",
       "      <td>34.5</td>\n",
       "      <td>2</td>\n",
       "    </tr>\n",
       "    <tr>\n",
       "      <th>1552</th>\n",
       "      <td>51.0</td>\n",
       "      <td>0</td>\n",
       "      <td>69.18</td>\n",
       "      <td>35.7</td>\n",
       "      <td>2</td>\n",
       "    </tr>\n",
       "    <tr>\n",
       "      <th>810</th>\n",
       "      <td>55.0</td>\n",
       "      <td>0</td>\n",
       "      <td>86.60</td>\n",
       "      <td>26.5</td>\n",
       "      <td>1</td>\n",
       "    </tr>\n",
       "    <tr>\n",
       "      <th>3144</th>\n",
       "      <td>79.0</td>\n",
       "      <td>0</td>\n",
       "      <td>82.07</td>\n",
       "      <td>30.4</td>\n",
       "      <td>2</td>\n",
       "    </tr>\n",
       "    <tr>\n",
       "      <th>1881</th>\n",
       "      <td>62.0</td>\n",
       "      <td>0</td>\n",
       "      <td>130.56</td>\n",
       "      <td>36.1</td>\n",
       "      <td>2</td>\n",
       "    </tr>\n",
       "  </tbody>\n",
       "</table>\n",
       "</div>"
      ],
      "text/plain": [
       "       age  hypertension  avg_glucose_level   bmi  work_type\n",
       "186   63.0             0             116.69  34.5          2\n",
       "1552  51.0             0              69.18  35.7          2\n",
       "810   55.0             0              86.60  26.5          1\n",
       "3144  79.0             0              82.07  30.4          2\n",
       "1881  62.0             0             130.56  36.1          2"
      ]
     },
     "execution_count": 63,
     "metadata": {},
     "output_type": "execute_result"
    }
   ],
   "source": [
    "X_train.head()"
   ]
  },
  {
   "cell_type": "markdown",
   "metadata": {
    "id": "ogCM9EWq_2jj"
   },
   "source": [
    "### Model Train & score `accuracy`"
   ]
  },
  {
   "cell_type": "code",
   "execution_count": 70,
   "metadata": {
    "id": "wya9OlQjre5q"
   },
   "outputs": [],
   "source": [
    "# the algorithms that will be used\n",
    "algo={\n",
    "    \"Logistic Regression\": LogisticRegression(),\n",
    "    \"KNN\": KNeighborsClassifier(),\n",
    "    #\"SVM\": svm.SVC(), #SVM gives same result as LR\n",
    "    \"DecisionTree\": DecisionTreeClassifier(),\n",
    "    \"Naive Bayes\": GaussianNB()\n",
    "    }\n",
    "\n",
    "'''A method for fitting and scoring the algorithms'''\n",
    "def algo_fit_score(algos,X_train,y_train,X_test,y_test):    \n",
    "    np.random.seed(40)\n",
    "    accuracy_score={} #values will be in the dict after execution\n",
    "\n",
    "  #loop through different algo\n",
    "    for name, i in algo.items():\n",
    "        i.fit(X_train,y_train) #fit the train data to algo\n",
    "        accuracy_score[name] = i.score(X_test,y_test)\n",
    "    return accuracy_score"
   ]
  },
  {
   "cell_type": "code",
   "execution_count": 71,
   "metadata": {
    "colab": {
     "base_uri": "https://localhost:8080/"
    },
    "id": "heD0SgMG4tkd",
    "outputId": "2d44c737-5647-45ad-93d5-fe63b868271f"
   },
   "outputs": [
    {
     "data": {
      "text/plain": [
       "{'Logistic Regression': 0.9393232205367561,\n",
       " 'KNN': 0.9276546091015169,\n",
       " 'DecisionTree': 0.8809801633605601,\n",
       " 'Naive Bayes': 0.9019836639439907}"
      ]
     },
     "execution_count": 71,
     "metadata": {},
     "output_type": "execute_result"
    }
   ],
   "source": [
    "#assigning train-test data into the method to determine score of each trained algorithm\n",
    "accuracy_score = algo_fit_score(algos=algo,\n",
    "                             X_train=X_train,\n",
    "                             X_test = X_test,\n",
    "                             y_train=y_train,\n",
    "                             y_test = y_test\n",
    "                             )\n",
    "accuracy_score"
   ]
  },
  {
   "cell_type": "markdown",
   "metadata": {
    "id": "wyzNcjCzAQHl"
   },
   "source": [
    "### Algorithm Performance Comparison"
   ]
  },
  {
   "cell_type": "code",
   "execution_count": null,
   "metadata": {
    "colab": {
     "base_uri": "https://localhost:8080/"
    },
    "id": "5_VJJagmO_ZN",
    "outputId": "2c612f9c-53d2-4ee7-faa9-6cab924a4c62"
   },
   "outputs": [
    {
     "name": "stdout",
     "output_type": "stream",
     "text": [
      "{'Logistic Regression': 93.8, 'KNN': 93.1, 'DecisionTree': 91.11, 'Naive Bayes': 88.3}\n"
     ]
    }
   ],
   "source": [
    "# accuracy in percentage\n",
    "\n",
    "for key, value in accuracy_score.items():\n",
    "  accuracy_score[key] = round(value * 100, 2)\n",
    "print(accuracy_score)"
   ]
  },
  {
   "cell_type": "code",
   "execution_count": null,
   "metadata": {
    "colab": {
     "base_uri": "https://localhost:8080/",
     "height": 573
    },
    "id": "rmJIxpWmoM7I",
    "outputId": "3e5791ad-c263-4551-8a3b-5e72ba518281"
   },
   "outputs": [
    {
     "data": {
      "image/png": "[encoded data removed]",
      "text/plain": [
       "<Figure size 1000x600 with 1 Axes>"
      ]
     },
     "metadata": {},
     "output_type": "display_data"
    }
   ],
   "source": [
    "algo_names = list(accuracy_score.keys())\n",
    "algo_values = list(accuracy_score.values())\n",
    "\n",
    "plt.figure(figsize=(10,6))\n",
    "sns.barplot(x=algo_names, y=algo_values,hue=algo_names, palette='viridis')\n",
    "plt.title('Algorithm Performance Comparison')\n",
    "plt.xlabel('Algorithms')\n",
    "plt.ylabel('Accuracy Percentage')\n",
    "plt.ylim(88, 94.5)\n",
    "plt.show();\n"
   ]
  },
  {
   "cell_type": "markdown",
   "metadata": {
    "id": "-B908o8NDc0B"
   },
   "source": [
    "* confusion matrix"
   ]
  },
  {
   "cell_type": "code",
   "execution_count": null,
   "metadata": {
    "colab": {
     "base_uri": "https://localhost:8080/"
    },
    "id": "227SV1Rb-NRB",
    "outputId": "6e144162-3e5b-43db-9592-debcaacf03f5"
   },
   "outputs": [
    {
     "name": "stdout",
     "output_type": "stream",
     "text": [
      "[[802   0]\n",
      " [ 53   0]]\n"
     ]
    }
   ],
   "source": [
    "# confusion matrix of LogisticRegression in algo dict\n",
    "\n",
    "# Get predictions\n",
    "y_pred = algo['Logistic Regression'].predict(X_test)\n",
    "\n",
    "# Generate confusion matrix\n",
    "confusion_matrix = metrics.confusion_matrix(y_test, y_pred)\n",
    "\n",
    "# Print confusion matrix\n",
    "print(confusion_matrix)\n"
   ]
  },
  {
   "cell_type": "markdown",
   "metadata": {
    "id": "IWWEwx7uDm-f"
   },
   "source": [
    "* precision"
   ]
  },
  {
   "cell_type": "code",
   "execution_count": null,
   "metadata": {
    "colab": {
     "base_uri": "https://localhost:8080/"
    },
    "id": "WWgBRGyfDnbg",
    "outputId": "dddc9a42-1e1d-4953-b080-de951cd3e924"
   },
   "outputs": [
    {
     "name": "stdout",
     "output_type": "stream",
     "text": [
      "Precision of Logistic Regression: 0.0\n"
     ]
    },
    {
     "name": "stderr",
     "output_type": "stream",
     "text": [
      "/usr/local/lib/python3.10/dist-packages/sklearn/metrics/_classification.py:1344: UndefinedMetricWarning: Precision is ill-defined and being set to 0.0 due to no predicted samples. Use `zero_division` parameter to control this behavior.\n",
      "  _warn_prf(average, modifier, msg_start, len(result))\n"
     ]
    }
   ],
   "source": [
    "# precision of LogisticRegression in algo dict\n",
    "\n",
    "y_pred = algo['Logistic Regression'].predict(X_test)\n",
    "precision = precision_score(y_test, y_pred)\n",
    "print(f\"Precision of Logistic Regression: {precision}\")\n"
   ]
  },
  {
   "cell_type": "markdown",
   "metadata": {
    "id": "2bN9P4i6qIOU"
   },
   "source": [
    "## Hyperparameter Tuning"
   ]
  },
  {
   "cell_type": "markdown",
   "metadata": {
    "id": "KtTfjE6X8vHe"
   },
   "source": [
    "### - of Logistic Regression using GridSearchCV"
   ]
  },
  {
   "cell_type": "code",
   "execution_count": null,
   "metadata": {
    "colab": {
     "base_uri": "https://localhost:8080/",
     "height": 221
    },
    "id": "JHQU7msQqHju",
    "outputId": "dcf05a44-1403-4dc9-e645-722efade5ba9"
   },
   "outputs": [
    {
     "data": {
      "text/html": [
       "<div style=\"max-width:800px; border: 1px solid var(--colab-border-color);\"><style>\n",
       "      pre.function-repr-contents {\n",
       "        overflow-x: auto;\n",
       "        padding: 8px 12px;\n",
       "        max-height: 500px;\n",
       "      }\n",
       "\n",
       "      pre.function-repr-contents.function-repr-contents-collapsed {\n",
       "        cursor: pointer;\n",
       "        max-height: 100px;\n",
       "      }\n",
       "    </style>\n",
       "    <pre style=\"white-space: initial; background:\n",
       "         var(--colab-secondary-surface-color); padding: 8px 12px;\n",
       "         border-bottom: 1px solid var(--colab-border-color);\"><b>sklearn.linear_model._logistic.LogisticRegression</b><br/>def __init__(penalty=&#x27;l2&#x27;, *, dual=False, tol=0.0001, C=1.0, fit_intercept=True, intercept_scaling=1, class_weight=None, random_state=None, solver=&#x27;lbfgs&#x27;, max_iter=100, multi_class=&#x27;auto&#x27;, verbose=0, warm_start=False, n_jobs=None, l1_ratio=None)</pre><pre class=\"function-repr-contents function-repr-contents-collapsed\" style=\"\"><a class=\"filepath\" style=\"display:none\" href=\"#\">/usr/local/lib/python3.10/dist-packages/sklearn/linear_model/_logistic.py</a>Logistic Regression (aka logit, MaxEnt) classifier.\n",
       "\n",
       "In the multiclass case, the training algorithm uses the one-vs-rest (OvR)\n",
       "scheme if the &#x27;multi_class&#x27; option is set to &#x27;ovr&#x27;, and uses the\n",
       "cross-entropy loss if the &#x27;multi_class&#x27; option is set to &#x27;multinomial&#x27;.\n",
       "(Currently the &#x27;multinomial&#x27; option is supported only by the &#x27;lbfgs&#x27;,\n",
       "&#x27;sag&#x27;, &#x27;saga&#x27; and &#x27;newton-cg&#x27; solvers.)\n",
       "\n",
       "This class implements regularized logistic regression using the\n",
       "&#x27;liblinear&#x27; library, &#x27;newton-cg&#x27;, &#x27;sag&#x27;, &#x27;saga&#x27; and &#x27;lbfgs&#x27; solvers. **Note\n",
       "that regularization is applied by default**. It can handle both dense\n",
       "and sparse input. Use C-ordered arrays or CSR matrices containing 64-bit\n",
       "floats for optimal performance; any other input format will be converted\n",
       "(and copied).\n",
       "\n",
       "The &#x27;newton-cg&#x27;, &#x27;sag&#x27;, and &#x27;lbfgs&#x27; solvers support only L2 regularization\n",
       "with primal formulation, or no regularization. The &#x27;liblinear&#x27; solver\n",
       "supports both L1 and L2 regularization, with a dual formulation only for\n",
       "the L2 penalty. The Elastic-Net regularization is only supported by the\n",
       "&#x27;saga&#x27; solver.\n",
       "\n",
       "Read more in the :ref:`User Guide &lt;logistic_regression&gt;`.\n",
       "\n",
       "Parameters\n",
       "----------\n",
       "penalty : {&#x27;l1&#x27;, &#x27;l2&#x27;, &#x27;elasticnet&#x27;, None}, default=&#x27;l2&#x27;\n",
       "    Specify the norm of the penalty:\n",
       "\n",
       "    - `None`: no penalty is added;\n",
       "    - `&#x27;l2&#x27;`: add a L2 penalty term and it is the default choice;\n",
       "    - `&#x27;l1&#x27;`: add a L1 penalty term;\n",
       "    - `&#x27;elasticnet&#x27;`: both L1 and L2 penalty terms are added.\n",
       "\n",
       "    .. warning::\n",
       "       Some penalties may not work with some solvers. See the parameter\n",
       "       `solver` below, to know the compatibility between the penalty and\n",
       "       solver.\n",
       "\n",
       "    .. versionadded:: 0.19\n",
       "       l1 penalty with SAGA solver (allowing &#x27;multinomial&#x27; + L1)\n",
       "\n",
       "    .. deprecated:: 1.2\n",
       "       The &#x27;none&#x27; option was deprecated in version 1.2, and will be removed\n",
       "       in 1.4. Use `None` instead.\n",
       "\n",
       "dual : bool, default=False\n",
       "    Dual or primal formulation. Dual formulation is only implemented for\n",
       "    l2 penalty with liblinear solver. Prefer dual=False when\n",
       "    n_samples &gt; n_features.\n",
       "\n",
       "tol : float, default=1e-4\n",
       "    Tolerance for stopping criteria.\n",
       "\n",
       "C : float, default=1.0\n",
       "    Inverse of regularization strength; must be a positive float.\n",
       "    Like in support vector machines, smaller values specify stronger\n",
       "    regularization.\n",
       "\n",
       "fit_intercept : bool, default=True\n",
       "    Specifies if a constant (a.k.a. bias or intercept) should be\n",
       "    added to the decision function.\n",
       "\n",
       "intercept_scaling : float, default=1\n",
       "    Useful only when the solver &#x27;liblinear&#x27; is used\n",
       "    and self.fit_intercept is set to True. In this case, x becomes\n",
       "    [x, self.intercept_scaling],\n",
       "    i.e. a &quot;synthetic&quot; feature with constant value equal to\n",
       "    intercept_scaling is appended to the instance vector.\n",
       "    The intercept becomes ``intercept_scaling * synthetic_feature_weight``.\n",
       "\n",
       "    Note! the synthetic feature weight is subject to l1/l2 regularization\n",
       "    as all other features.\n",
       "    To lessen the effect of regularization on synthetic feature weight\n",
       "    (and therefore on the intercept) intercept_scaling has to be increased.\n",
       "\n",
       "class_weight : dict or &#x27;balanced&#x27;, default=None\n",
       "    Weights associated with classes in the form ``{class_label: weight}``.\n",
       "    If not given, all classes are supposed to have weight one.\n",
       "\n",
       "    The &quot;balanced&quot; mode uses the values of y to automatically adjust\n",
       "    weights inversely proportional to class frequencies in the input data\n",
       "    as ``n_samples / (n_classes * np.bincount(y))``.\n",
       "\n",
       "    Note that these weights will be multiplied with sample_weight (passed\n",
       "    through the fit method) if sample_weight is specified.\n",
       "\n",
       "    .. versionadded:: 0.17\n",
       "       *class_weight=&#x27;balanced&#x27;*\n",
       "\n",
       "random_state : int, RandomState instance, default=None\n",
       "    Used when ``solver`` == &#x27;sag&#x27;, &#x27;saga&#x27; or &#x27;liblinear&#x27; to shuffle the\n",
       "    data. See :term:`Glossary &lt;random_state&gt;` for details.\n",
       "\n",
       "solver : {&#x27;lbfgs&#x27;, &#x27;liblinear&#x27;, &#x27;newton-cg&#x27;, &#x27;newton-cholesky&#x27;, &#x27;sag&#x27;, &#x27;saga&#x27;},             default=&#x27;lbfgs&#x27;\n",
       "\n",
       "    Algorithm to use in the optimization problem. Default is &#x27;lbfgs&#x27;.\n",
       "    To choose a solver, you might want to consider the following aspects:\n",
       "\n",
       "        - For small datasets, &#x27;liblinear&#x27; is a good choice, whereas &#x27;sag&#x27;\n",
       "          and &#x27;saga&#x27; are faster for large ones;\n",
       "        - For multiclass problems, only &#x27;newton-cg&#x27;, &#x27;sag&#x27;, &#x27;saga&#x27; and\n",
       "          &#x27;lbfgs&#x27; handle multinomial loss;\n",
       "        - &#x27;liblinear&#x27; is limited to one-versus-rest schemes.\n",
       "        - &#x27;newton-cholesky&#x27; is a good choice for `n_samples` &gt;&gt; `n_features`,\n",
       "          especially with one-hot encoded categorical features with rare\n",
       "          categories. Note that it is limited to binary classification and the\n",
       "          one-versus-rest reduction for multiclass classification. Be aware that\n",
       "          the memory usage of this solver has a quadratic dependency on\n",
       "          `n_features` because it explicitly computes the Hessian matrix.\n",
       "\n",
       "    .. warning::\n",
       "       The choice of the algorithm depends on the penalty chosen.\n",
       "       Supported penalties by solver:\n",
       "\n",
       "       - &#x27;lbfgs&#x27;           -   [&#x27;l2&#x27;, None]\n",
       "       - &#x27;liblinear&#x27;       -   [&#x27;l1&#x27;, &#x27;l2&#x27;]\n",
       "       - &#x27;newton-cg&#x27;       -   [&#x27;l2&#x27;, None]\n",
       "       - &#x27;newton-cholesky&#x27; -   [&#x27;l2&#x27;, None]\n",
       "       - &#x27;sag&#x27;             -   [&#x27;l2&#x27;, None]\n",
       "       - &#x27;saga&#x27;            -   [&#x27;elasticnet&#x27;, &#x27;l1&#x27;, &#x27;l2&#x27;, None]\n",
       "\n",
       "    .. note::\n",
       "       &#x27;sag&#x27; and &#x27;saga&#x27; fast convergence is only guaranteed on features\n",
       "       with approximately the same scale. You can preprocess the data with\n",
       "       a scaler from :mod:`sklearn.preprocessing`.\n",
       "\n",
       "    .. seealso::\n",
       "       Refer to the User Guide for more information regarding\n",
       "       :class:`LogisticRegression` and more specifically the\n",
       "       :ref:`Table &lt;Logistic_regression&gt;`\n",
       "       summarizing solver/penalty supports.\n",
       "\n",
       "    .. versionadded:: 0.17\n",
       "       Stochastic Average Gradient descent solver.\n",
       "    .. versionadded:: 0.19\n",
       "       SAGA solver.\n",
       "    .. versionchanged:: 0.22\n",
       "        The default solver changed from &#x27;liblinear&#x27; to &#x27;lbfgs&#x27; in 0.22.\n",
       "    .. versionadded:: 1.2\n",
       "       newton-cholesky solver.\n",
       "\n",
       "max_iter : int, default=100\n",
       "    Maximum number of iterations taken for the solvers to converge.\n",
       "\n",
       "multi_class : {&#x27;auto&#x27;, &#x27;ovr&#x27;, &#x27;multinomial&#x27;}, default=&#x27;auto&#x27;\n",
       "    If the option chosen is &#x27;ovr&#x27;, then a binary problem is fit for each\n",
       "    label. For &#x27;multinomial&#x27; the loss minimised is the multinomial loss fit\n",
       "    across the entire probability distribution, *even when the data is\n",
       "    binary*. &#x27;multinomial&#x27; is unavailable when solver=&#x27;liblinear&#x27;.\n",
       "    &#x27;auto&#x27; selects &#x27;ovr&#x27; if the data is binary, or if solver=&#x27;liblinear&#x27;,\n",
       "    and otherwise selects &#x27;multinomial&#x27;.\n",
       "\n",
       "    .. versionadded:: 0.18\n",
       "       Stochastic Average Gradient descent solver for &#x27;multinomial&#x27; case.\n",
       "    .. versionchanged:: 0.22\n",
       "        Default changed from &#x27;ovr&#x27; to &#x27;auto&#x27; in 0.22.\n",
       "\n",
       "verbose : int, default=0\n",
       "    For the liblinear and lbfgs solvers set verbose to any positive\n",
       "    number for verbosity.\n",
       "\n",
       "warm_start : bool, default=False\n",
       "    When set to True, reuse the solution of the previous call to fit as\n",
       "    initialization, otherwise, just erase the previous solution.\n",
       "    Useless for liblinear solver. See :term:`the Glossary &lt;warm_start&gt;`.\n",
       "\n",
       "    .. versionadded:: 0.17\n",
       "       *warm_start* to support *lbfgs*, *newton-cg*, *sag*, *saga* solvers.\n",
       "\n",
       "n_jobs : int, default=None\n",
       "    Number of CPU cores used when parallelizing over classes if\n",
       "    multi_class=&#x27;ovr&#x27;&quot;. This parameter is ignored when the ``solver`` is\n",
       "    set to &#x27;liblinear&#x27; regardless of whether &#x27;multi_class&#x27; is specified or\n",
       "    not. ``None`` means 1 unless in a :obj:`joblib.parallel_backend`\n",
       "    context. ``-1`` means using all processors.\n",
       "    See :term:`Glossary &lt;n_jobs&gt;` for more details.\n",
       "\n",
       "l1_ratio : float, default=None\n",
       "    The Elastic-Net mixing parameter, with ``0 &lt;= l1_ratio &lt;= 1``. Only\n",
       "    used if ``penalty=&#x27;elasticnet&#x27;``. Setting ``l1_ratio=0`` is equivalent\n",
       "    to using ``penalty=&#x27;l2&#x27;``, while setting ``l1_ratio=1`` is equivalent\n",
       "    to using ``penalty=&#x27;l1&#x27;``. For ``0 &lt; l1_ratio &lt;1``, the penalty is a\n",
       "    combination of L1 and L2.\n",
       "\n",
       "Attributes\n",
       "----------\n",
       "\n",
       "classes_ : ndarray of shape (n_classes, )\n",
       "    A list of class labels known to the classifier.\n",
       "\n",
       "coef_ : ndarray of shape (1, n_features) or (n_classes, n_features)\n",
       "    Coefficient of the features in the decision function.\n",
       "\n",
       "    `coef_` is of shape (1, n_features) when the given problem is binary.\n",
       "    In particular, when `multi_class=&#x27;multinomial&#x27;`, `coef_` corresponds\n",
       "    to outcome 1 (True) and `-coef_` corresponds to outcome 0 (False).\n",
       "\n",
       "intercept_ : ndarray of shape (1,) or (n_classes,)\n",
       "    Intercept (a.k.a. bias) added to the decision function.\n",
       "\n",
       "    If `fit_intercept` is set to False, the intercept is set to zero.\n",
       "    `intercept_` is of shape (1,) when the given problem is binary.\n",
       "    In particular, when `multi_class=&#x27;multinomial&#x27;`, `intercept_`\n",
       "    corresponds to outcome 1 (True) and `-intercept_` corresponds to\n",
       "    outcome 0 (False).\n",
       "\n",
       "n_features_in_ : int\n",
       "    Number of features seen during :term:`fit`.\n",
       "\n",
       "    .. versionadded:: 0.24\n",
       "\n",
       "feature_names_in_ : ndarray of shape (`n_features_in_`,)\n",
       "    Names of features seen during :term:`fit`. Defined only when `X`\n",
       "    has feature names that are all strings.\n",
       "\n",
       "    .. versionadded:: 1.0\n",
       "\n",
       "n_iter_ : ndarray of shape (n_classes,) or (1, )\n",
       "    Actual number of iterations for all classes. If binary or multinomial,\n",
       "    it returns only 1 element. For liblinear solver, only the maximum\n",
       "    number of iteration across all classes is given.\n",
       "\n",
       "    .. versionchanged:: 0.20\n",
       "\n",
       "        In SciPy &lt;= 1.0.0 the number of lbfgs iterations may exceed\n",
       "        ``max_iter``. ``n_iter_`` will now report at most ``max_iter``.\n",
       "\n",
       "See Also\n",
       "--------\n",
       "SGDClassifier : Incrementally trained logistic regression (when given\n",
       "    the parameter ``loss=&quot;log&quot;``).\n",
       "LogisticRegressionCV : Logistic regression with built-in cross validation.\n",
       "\n",
       "Notes\n",
       "-----\n",
       "The underlying C implementation uses a random number generator to\n",
       "select features when fitting the model. It is thus not uncommon,\n",
       "to have slightly different results for the same input data. If\n",
       "that happens, try with a smaller tol parameter.\n",
       "\n",
       "Predict output may not match that of standalone liblinear in certain\n",
       "cases. See :ref:`differences from liblinear &lt;liblinear_differences&gt;`\n",
       "in the narrative documentation.\n",
       "\n",
       "References\n",
       "----------\n",
       "\n",
       "L-BFGS-B -- Software for Large-scale Bound-constrained Optimization\n",
       "    Ciyou Zhu, Richard Byrd, Jorge Nocedal and Jose Luis Morales.\n",
       "    http://users.iems.northwestern.edu/~nocedal/lbfgsb.html\n",
       "\n",
       "LIBLINEAR -- A Library for Large Linear Classification\n",
       "    https://www.csie.ntu.edu.tw/~cjlin/liblinear/\n",
       "\n",
       "SAG -- Mark Schmidt, Nicolas Le Roux, and Francis Bach\n",
       "    Minimizing Finite Sums with the Stochastic Average Gradient\n",
       "    https://hal.inria.fr/hal-00860051/document\n",
       "\n",
       "SAGA -- Defazio, A., Bach F. &amp; Lacoste-Julien S. (2014).\n",
       "        :arxiv:`&quot;SAGA: A Fast Incremental Gradient Method With Support\n",
       "        for Non-Strongly Convex Composite Objectives&quot; &lt;1407.0202&gt;`\n",
       "\n",
       "Hsiang-Fu Yu, Fang-Lan Huang, Chih-Jen Lin (2011). Dual coordinate descent\n",
       "    methods for logistic regression and maximum entropy models.\n",
       "    Machine Learning 85(1-2):41-75.\n",
       "    https://www.csie.ntu.edu.tw/~cjlin/papers/maxent_dual.pdf\n",
       "\n",
       "Examples\n",
       "--------\n",
       "&gt;&gt;&gt; from sklearn.datasets import load_iris\n",
       "&gt;&gt;&gt; from sklearn.linear_model import LogisticRegression\n",
       "&gt;&gt;&gt; X, y = load_iris(return_X_y=True)\n",
       "&gt;&gt;&gt; clf = LogisticRegression(random_state=0).fit(X, y)\n",
       "&gt;&gt;&gt; clf.predict(X[:2, :])\n",
       "array([0, 0])\n",
       "&gt;&gt;&gt; clf.predict_proba(X[:2, :])\n",
       "array([[9.8...e-01, 1.8...e-02, 1.4...e-08],\n",
       "       [9.7...e-01, 2.8...e-02, ...e-08]])\n",
       "&gt;&gt;&gt; clf.score(X, y)\n",
       "0.97...</pre>\n",
       "      <script>\n",
       "      if (google.colab.kernel.accessAllowed && google.colab.files && google.colab.files.view) {\n",
       "        for (const element of document.querySelectorAll('.filepath')) {\n",
       "          element.style.display = 'block'\n",
       "          element.onclick = (event) => {\n",
       "            event.preventDefault();\n",
       "            event.stopPropagation();\n",
       "            google.colab.files.view(element.textContent, 783);\n",
       "          };\n",
       "        }\n",
       "      }\n",
       "      for (const element of document.querySelectorAll('.function-repr-contents')) {\n",
       "        element.onclick = (event) => {\n",
       "          event.preventDefault();\n",
       "          event.stopPropagation();\n",
       "          element.classList.toggle('function-repr-contents-collapsed');\n",
       "        };\n",
       "      }\n",
       "      </script>\n",
       "      </div>"
      ],
      "text/plain": [
       "sklearn.linear_model._logistic.LogisticRegression"
      ]
     },
     "execution_count": 139,
     "metadata": {},
     "output_type": "execute_result"
    }
   ],
   "source": [
    "lr = algo['Logistic Regression']\n",
    "type(lr)"
   ]
  },
  {
   "cell_type": "code",
   "execution_count": null,
   "metadata": {
    "colab": {
     "base_uri": "https://localhost:8080/"
    },
    "id": "MA4UaDRiatfW",
    "outputId": "580636c6-7407-4509-c2e2-efc9a1f308b6"
   },
   "outputs": [
    {
     "name": "stdout",
     "output_type": "stream",
     "text": [
      "[         1          2          4          8         16         32\n",
      "         64        128        256        512       1024       2048\n",
      "       4096       8192      16384      32768      65536     131072\n",
      "     262144     524288    1048576    2097152    4194304    8388608\n",
      "   16777216   33554432   67108864  134217728  268435456  536870912\n",
      " 1073741824 2147483648 4294967296]\n"
     ]
    },
    {
     "data": {
      "text/plain": [
       "array([0, 1, 2, 3, 4, 5, 6, 8])"
      ]
     },
     "execution_count": 69,
     "metadata": {},
     "output_type": "execute_result"
    }
   ],
   "source": [
    "# Generate a sequence of 10 numbers between 1 and 100, equally spaced on a logarithmic scale.\n",
    "sequence = np.logspace(0,32,33,base=2,dtype=int)\n",
    "x=np.linspace(0,8,8,dtype=int)\n",
    "# Print the sequence.\n",
    "print(sequence)\n",
    "x"
   ]
  },
  {
   "cell_type": "code",
   "execution_count": null,
   "metadata": {
    "colab": {
     "base_uri": "https://localhost:8080/",
     "height": 135
    },
    "id": "UnEcm1k4QPIw",
    "outputId": "4d8c9053-20e8-4f54-822a-2907c01a00c7"
   },
   "outputs": [
    {
     "name": "stdout",
     "output_type": "stream",
     "text": [
      "Fitting 10 folds for each of 100 candidates, totalling 1000 fits\n"
     ]
    },
    {
     "data": {
      "text/html": [
       "<style>#sk-container-id-12 {color: black;background-color: white;}#sk-container-id-12 pre{padding: 0;}#sk-container-id-12 div.sk-toggleable {background-color: white;}#sk-container-id-12 label.sk-toggleable__label {cursor: pointer;display: block;width: 100%;margin-bottom: 0;padding: 0.3em;box-sizing: border-box;text-align: center;}#sk-container-id-12 label.sk-toggleable__label-arrow:before {content: \"▸\";float: left;margin-right: 0.25em;color: #696969;}#sk-container-id-12 label.sk-toggleable__label-arrow:hover:before {color: black;}#sk-container-id-12 div.sk-estimator:hover label.sk-toggleable__label-arrow:before {color: black;}#sk-container-id-12 div.sk-toggleable__content {max-height: 0;max-width: 0;overflow: hidden;text-align: left;background-color: #f0f8ff;}#sk-container-id-12 div.sk-toggleable__content pre {margin: 0.2em;color: black;border-radius: 0.25em;background-color: #f0f8ff;}#sk-container-id-12 input.sk-toggleable__control:checked~div.sk-toggleable__content {max-height: 200px;max-width: 100%;overflow: auto;}#sk-container-id-12 input.sk-toggleable__control:checked~label.sk-toggleable__label-arrow:before {content: \"▾\";}#sk-container-id-12 div.sk-estimator input.sk-toggleable__control:checked~label.sk-toggleable__label {background-color: #d4ebff;}#sk-container-id-12 div.sk-label input.sk-toggleable__control:checked~label.sk-toggleable__label {background-color: #d4ebff;}#sk-container-id-12 input.sk-hidden--visually {border: 0;clip: rect(1px 1px 1px 1px);clip: rect(1px, 1px, 1px, 1px);height: 1px;margin: -1px;overflow: hidden;padding: 0;position: absolute;width: 1px;}#sk-container-id-12 div.sk-estimator {font-family: monospace;background-color: #f0f8ff;border: 1px dotted black;border-radius: 0.25em;box-sizing: border-box;margin-bottom: 0.5em;}#sk-container-id-12 div.sk-estimator:hover {background-color: #d4ebff;}#sk-container-id-12 div.sk-parallel-item::after {content: \"\";width: 100%;border-bottom: 1px solid gray;flex-grow: 1;}#sk-container-id-12 div.sk-label:hover label.sk-toggleable__label {background-color: #d4ebff;}#sk-container-id-12 div.sk-serial::before {content: \"\";position: absolute;border-left: 1px solid gray;box-sizing: border-box;top: 0;bottom: 0;left: 50%;z-index: 0;}#sk-container-id-12 div.sk-serial {display: flex;flex-direction: column;align-items: center;background-color: white;padding-right: 0.2em;padding-left: 0.2em;position: relative;}#sk-container-id-12 div.sk-item {position: relative;z-index: 1;}#sk-container-id-12 div.sk-parallel {display: flex;align-items: stretch;justify-content: center;background-color: white;position: relative;}#sk-container-id-12 div.sk-item::before, #sk-container-id-12 div.sk-parallel-item::before {content: \"\";position: absolute;border-left: 1px solid gray;box-sizing: border-box;top: 0;bottom: 0;left: 50%;z-index: -1;}#sk-container-id-12 div.sk-parallel-item {display: flex;flex-direction: column;z-index: 1;position: relative;background-color: white;}#sk-container-id-12 div.sk-parallel-item:first-child::after {align-self: flex-end;width: 50%;}#sk-container-id-12 div.sk-parallel-item:last-child::after {align-self: flex-start;width: 50%;}#sk-container-id-12 div.sk-parallel-item:only-child::after {width: 0;}#sk-container-id-12 div.sk-dashed-wrapped {border: 1px dashed gray;margin: 0 0.4em 0.5em 0.4em;box-sizing: border-box;padding-bottom: 0.4em;background-color: white;}#sk-container-id-12 div.sk-label label {font-family: monospace;font-weight: bold;display: inline-block;line-height: 1.2em;}#sk-container-id-12 div.sk-label-container {text-align: center;}#sk-container-id-12 div.sk-container {/* jupyter's `normalize.less` sets `[hidden] { display: none; }` but bootstrap.min.css set `[hidden] { display: none !important; }` so we also need the `!important` here to be able to override the default hidden behavior on the sphinx rendered scikit-learn.org. See: https://github.com/scikit-learn/scikit-learn/issues/21755 */display: inline-block !important;position: relative;}#sk-container-id-12 div.sk-text-repr-fallback {display: none;}</style><div id=\"sk-container-id-12\" class=\"sk-top-container\"><div class=\"sk-text-repr-fallback\"><pre>GridSearchCV(cv=10, estimator=LogisticRegression(),\n",
       "             param_grid={&#x27;C&#x27;: array([1.00000000e-10, 1.59228279e-10, 2.53536449e-10, 4.03701726e-10,\n",
       "       6.42807312e-10, 1.02353102e-09, 1.62975083e-09, 2.59502421e-09,\n",
       "       4.13201240e-09, 6.57933225e-09, 1.04761575e-08, 1.66810054e-08,\n",
       "       2.65608778e-08, 4.22924287e-08, 6.73415066e-08, 1.07226722e-07,\n",
       "       1.70735265e-07, 2.71858824e-07, 4.32876...\n",
       "       2.25701972e+05, 3.59381366e+05, 5.72236766e+05, 9.11162756e+05,\n",
       "       1.45082878e+06, 2.31012970e+06, 3.67837977e+06, 5.85702082e+06,\n",
       "       9.32603347e+06, 1.48496826e+07, 2.36448941e+07, 3.76493581e+07,\n",
       "       5.99484250e+07, 9.54548457e+07, 1.51991108e+08, 2.42012826e+08,\n",
       "       3.85352859e+08, 6.13590727e+08, 9.77009957e+08, 1.55567614e+09,\n",
       "       2.47707636e+09, 3.94420606e+09, 6.28029144e+09, 1.00000000e+10]),\n",
       "                         &#x27;solver&#x27;: [&#x27;liblinear&#x27;]},\n",
       "             verbose=True)</pre><b>In a Jupyter environment, please rerun this cell to show the HTML representation or trust the notebook. <br />On GitHub, the HTML representation is unable to render, please try loading this page with nbviewer.org.</b></div><div class=\"sk-container\" hidden><div class=\"sk-item sk-dashed-wrapped\"><div class=\"sk-label-container\"><div class=\"sk-label sk-toggleable\"><input class=\"sk-toggleable__control sk-hidden--visually\" id=\"sk-estimator-id-32\" type=\"checkbox\" ><label for=\"sk-estimator-id-32\" class=\"sk-toggleable__label sk-toggleable__label-arrow\">GridSearchCV</label><div class=\"sk-toggleable__content\"><pre>GridSearchCV(cv=10, estimator=LogisticRegression(),\n",
       "             param_grid={&#x27;C&#x27;: array([1.00000000e-10, 1.59228279e-10, 2.53536449e-10, 4.03701726e-10,\n",
       "       6.42807312e-10, 1.02353102e-09, 1.62975083e-09, 2.59502421e-09,\n",
       "       4.13201240e-09, 6.57933225e-09, 1.04761575e-08, 1.66810054e-08,\n",
       "       2.65608778e-08, 4.22924287e-08, 6.73415066e-08, 1.07226722e-07,\n",
       "       1.70735265e-07, 2.71858824e-07, 4.32876...\n",
       "       2.25701972e+05, 3.59381366e+05, 5.72236766e+05, 9.11162756e+05,\n",
       "       1.45082878e+06, 2.31012970e+06, 3.67837977e+06, 5.85702082e+06,\n",
       "       9.32603347e+06, 1.48496826e+07, 2.36448941e+07, 3.76493581e+07,\n",
       "       5.99484250e+07, 9.54548457e+07, 1.51991108e+08, 2.42012826e+08,\n",
       "       3.85352859e+08, 6.13590727e+08, 9.77009957e+08, 1.55567614e+09,\n",
       "       2.47707636e+09, 3.94420606e+09, 6.28029144e+09, 1.00000000e+10]),\n",
       "                         &#x27;solver&#x27;: [&#x27;liblinear&#x27;]},\n",
       "             verbose=True)</pre></div></div></div><div class=\"sk-parallel\"><div class=\"sk-parallel-item\"><div class=\"sk-item\"><div class=\"sk-label-container\"><div class=\"sk-label sk-toggleable\"><input class=\"sk-toggleable__control sk-hidden--visually\" id=\"sk-estimator-id-33\" type=\"checkbox\" ><label for=\"sk-estimator-id-33\" class=\"sk-toggleable__label sk-toggleable__label-arrow\">estimator: LogisticRegression</label><div class=\"sk-toggleable__content\"><pre>LogisticRegression()</pre></div></div></div><div class=\"sk-serial\"><div class=\"sk-item\"><div class=\"sk-estimator sk-toggleable\"><input class=\"sk-toggleable__control sk-hidden--visually\" id=\"sk-estimator-id-34\" type=\"checkbox\" ><label for=\"sk-estimator-id-34\" class=\"sk-toggleable__label sk-toggleable__label-arrow\">LogisticRegression</label><div class=\"sk-toggleable__content\"><pre>LogisticRegression()</pre></div></div></div></div></div></div></div></div></div></div>"
      ],
      "text/plain": [
       "GridSearchCV(cv=10, estimator=LogisticRegression(),\n",
       "             param_grid={'C': array([1.00000000e-10, 1.59228279e-10, 2.53536449e-10, 4.03701726e-10,\n",
       "       6.42807312e-10, 1.02353102e-09, 1.62975083e-09, 2.59502421e-09,\n",
       "       4.13201240e-09, 6.57933225e-09, 1.04761575e-08, 1.66810054e-08,\n",
       "       2.65608778e-08, 4.22924287e-08, 6.73415066e-08, 1.07226722e-07,\n",
       "       1.70735265e-07, 2.71858824e-07, 4.32876...\n",
       "       2.25701972e+05, 3.59381366e+05, 5.72236766e+05, 9.11162756e+05,\n",
       "       1.45082878e+06, 2.31012970e+06, 3.67837977e+06, 5.85702082e+06,\n",
       "       9.32603347e+06, 1.48496826e+07, 2.36448941e+07, 3.76493581e+07,\n",
       "       5.99484250e+07, 9.54548457e+07, 1.51991108e+08, 2.42012826e+08,\n",
       "       3.85352859e+08, 6.13590727e+08, 9.77009957e+08, 1.55567614e+09,\n",
       "       2.47707636e+09, 3.94420606e+09, 6.28029144e+09, 1.00000000e+10]),\n",
       "                         'solver': ['liblinear']},\n",
       "             verbose=True)"
      ]
     },
     "execution_count": 140,
     "metadata": {},
     "output_type": "execute_result"
    }
   ],
   "source": [
    "lr_param = {\"C\":np.logspace(-10,10,100),\n",
    "            \"solver\":['liblinear']}\n",
    "cross_val = 10\n",
    "\n",
    "gridSearch_lr =GridSearchCV(estimator=lr,\n",
    "                            param_grid=lr_param,\n",
    "                            cv = cross_val,\n",
    "                            verbose=True)\n",
    "gridSearch_lr.fit(X_train,y_train)"
   ]
  },
  {
   "cell_type": "code",
   "execution_count": null,
   "metadata": {
    "colab": {
     "base_uri": "https://localhost:8080/"
    },
    "id": "6tSX9aQ-W50-",
    "outputId": "f9d8c8fe-de10-45fc-d59f-9c0f0537644a"
   },
   "outputs": [
    {
     "data": {
      "text/plain": [
       "{'C': 1e-10, 'solver': 'liblinear'}"
      ]
     },
     "execution_count": 141,
     "metadata": {},
     "output_type": "execute_result"
    }
   ],
   "source": [
    "gridSearch_lr.best_params_"
   ]
  }
 ],
 "metadata": {
  "colab": {
   "provenance": [],
   "toc_visible": true
  },
  "kernelspec": {
   "display_name": "Python 3",
   "language": "python",
   "name": "python3"
  },
  "language_info": {
   "codemirror_mode": {
    "name": "ipython",
    "version": 3
   },
   "file_extension": ".py",
   "mimetype": "text/x-python",
   "name": "python",
   "nbconvert_exporter": "python",
   "pygments_lexer": "ipython3",
   "version": "3.8.8"
  }
 },
 "nbformat": 4,
 "nbformat_minor": 1
}
